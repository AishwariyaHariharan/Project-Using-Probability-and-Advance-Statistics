{
 "cells": [
  {
   "cell_type": "markdown",
   "id": "fba3a8bc",
   "metadata": {},
   "source": [
    "# Problem 1"
   ]
  },
  {
   "cell_type": "markdown",
   "id": "10148c2b",
   "metadata": {},
   "source": [
    "A physiotherapist with a male football team is interested in studying the relationship between foot injuries and the positions at which the players play from the data collected."
   ]
  },
  {
   "attachments": {
    "Problem%201.png": {
     "image/png": "[encoded data removed]"
    }
   },
   "cell_type": "markdown",
   "id": "7e39586c",
   "metadata": {},
   "source": [
    "![Problem%201.png](attachment:Problem%201.png)"
   ]
  },
  {
   "cell_type": "markdown",
   "id": "0d889a15",
   "metadata": {},
   "source": [
    "#### 1.1 What is the probability that a randomly chosen player would suffer an injury?"
   ]
  },
  {
   "cell_type": "code",
   "execution_count": 896,
   "id": "f2b5e614",
   "metadata": {},
   "outputs": [
    {
     "name": "stdout",
     "output_type": "stream",
     "text": [
      "Probability that a randomly chosen player would suffer an injury is 61.7%\n"
     ]
    }
   ],
   "source": [
    "total_injured = 145\n",
    "total_players = 235\n",
    "prob_injury = (total_injured/total_players)*100\n",
    "print('Probability that a randomly chosen player would suffer an injury is %1.1f' % prob_injury +'%')"
   ]
  },
  {
   "cell_type": "markdown",
   "id": "7d02f1ee",
   "metadata": {},
   "source": [
    "#### 1.2.  What is the probability that a player is a forward or a winger?"
   ]
  },
  {
   "cell_type": "code",
   "execution_count": 897,
   "id": "4092bece",
   "metadata": {},
   "outputs": [
    {
     "name": "stdout",
     "output_type": "stream",
     "text": [
      "Probability that a player is a forward or a winger is 52.3%\n"
     ]
    }
   ],
   "source": [
    "total_forward = 94\n",
    "total_winger = 29\n",
    "prob_forward = total_forward/total_players\n",
    "prob_winger = total_winger/total_players\n",
    "#Mutually exclusive events\n",
    "prob_forward_or_winger = (prob_forward + prob_winger)*100\n",
    "print('Probability that a player is a forward or a winger is %1.1f' % prob_forward_or_winger +'%')"
   ]
  },
  {
   "cell_type": "markdown",
   "id": "c059c171",
   "metadata": {},
   "source": [
    "#### 1.3 What is the probability that a randomly chosen player plays in a striker position and has a foot injury?"
   ]
  },
  {
   "cell_type": "code",
   "execution_count": 898,
   "id": "521b5901",
   "metadata": {},
   "outputs": [
    {
     "name": "stdout",
     "output_type": "stream",
     "text": [
      "Probability that a randomly chosen player plays in a striker position and has a foot injury is 19.1%\n"
     ]
    }
   ],
   "source": [
    "No_of_injured_strikers = 45\n",
    "prob_that_random_person_is_injured_striker = (No_of_injured_strikers/total_players)*100\n",
    "print('Probability that a randomly chosen player plays in a striker position and has a foot injury is %1.1f' % prob_that_random_person_is_injured_striker +'%')"
   ]
  },
  {
   "cell_type": "markdown",
   "id": "31ae996f",
   "metadata": {},
   "source": [
    "#### 1.4 What is the probability that a randomly chosen injured player is a striker? "
   ]
  },
  {
   "cell_type": "code",
   "execution_count": 899,
   "id": "5292731a",
   "metadata": {},
   "outputs": [
    {
     "name": "stdout",
     "output_type": "stream",
     "text": [
      "Probability that a randomly chosen injured player is a striker is 31.0%\n"
     ]
    }
   ],
   "source": [
    "total_injured = 145\n",
    "prob_that_random_injured_player_is_striker = (No_of_injured_strikers/total_injured)*100\n",
    "print('Probability that a randomly chosen injured player is a striker is %1.1f' % prob_that_random_injured_player_is_striker +'%')"
   ]
  },
  {
   "cell_type": "markdown",
   "id": "600fd8c4",
   "metadata": {},
   "source": [
    "# Problem 2"
   ]
  },
  {
   "cell_type": "markdown",
   "id": "432954a3",
   "metadata": {},
   "source": [
    "The breaking strength of gunny bags used for packaging cement is normally distributed with a mean of 5 kg per sq. centimeter and a standard deviation of 1.5 kg per sq. centimeter. The quality team of the cement company wants to know the following about the packaging material to better understand wastage or pilferage within the supply chain; Answer the questions below based on the given information; (Provide an appropriate visual representation of your answers, without which marks will be deducted)"
   ]
  },
  {
   "cell_type": "code",
   "execution_count": 900,
   "id": "baa1d8b1",
   "metadata": {},
   "outputs": [],
   "source": [
    "import pandas as pd \n",
    "import numpy as np \n",
    "import matplotlib.pyplot as plt  \n",
    "import seaborn as sns  \n",
    "\n",
    "%matplotlib inline\n",
    "\n",
    "import scipy.stats as stats \n",
    "from scipy.stats import norm"
   ]
  },
  {
   "cell_type": "code",
   "execution_count": 901,
   "id": "d237717a",
   "metadata": {},
   "outputs": [],
   "source": [
    "#Calculate the pdf of the breaking strength of gunny bags using norm.pdf()\n",
    "#Create an empty DataFrame\n",
    "gunny_bags = pd.DataFrame()\n",
    "#Create an array of 10 numbers in between the min and max range and store it in the first column of the empty DataFrame\n",
    "gunny_bags[\"Breaking strength\"] = np.linspace(1, 11, 10)\n",
    "# calculate the pdf() of the created numbers and store it in another column named 'pdf'\n",
    "gunny_bags[\"pdf\"] = norm.pdf(gunny_bags[\"Breaking strength\"], loc=5, scale=1.5) "
   ]
  },
  {
   "cell_type": "code",
   "execution_count": 902,
   "id": "1beacca3",
   "metadata": {},
   "outputs": [
    {
     "data": {
      "image/png": "[encoded data removed]",
      "text/plain": [
       "<Figure size 432x288 with 1 Axes>"
      ]
     },
     "metadata": {
      "needs_background": "light"
     },
     "output_type": "display_data"
    }
   ],
   "source": [
    "#Plot the pdf of the normal distribution\n",
    "plt.plot(gunny_bags[\"Breaking strength\"], gunny_bags[\"pdf\"], color=\"blue\") \n",
    "plt.title(\"Normal Distribution\")\n",
    "plt.xlabel(\"Breaking strength (kg per sq cm)\")\n",
    "plt.ylabel(\"Probability\")\n",
    "plt.show() "
   ]
  },
  {
   "cell_type": "markdown",
   "id": "a8c00c48",
   "metadata": {},
   "source": [
    "#### 2.1 What proportion of the gunny bags have a breaking strength of less than 3.17 kg per sq cm? "
   ]
  },
  {
   "cell_type": "code",
   "execution_count": 903,
   "id": "8d0449d0",
   "metadata": {},
   "outputs": [
    {
     "name": "stdout",
     "output_type": "stream",
     "text": [
      "The proportion of the gunny bags that have a breaking strength of less than 3.17 kg per sq cm is 11.1%\n"
     ]
    }
   ],
   "source": [
    "a = stats.norm.cdf(3.17,loc=5,scale=1.5)*100\n",
    "print('The proportion of the gunny bags that have a breaking strength of less than 3.17 kg per sq cm is %1.1f' % a +'%')"
   ]
  },
  {
   "cell_type": "code",
   "execution_count": 904,
   "id": "d867d918",
   "metadata": {},
   "outputs": [
    {
     "data": {
      "image/png": "[encoded data removed]",
      "text/plain": [
       "<Figure size 432x288 with 1 Axes>"
      ]
     },
     "metadata": {
      "needs_background": "light"
     },
     "output_type": "display_data"
    }
   ],
   "source": [
    "plt.plot(gunny_bags[\"Breaking strength\"], gunny_bags[\"pdf\"], color=\"blue\")\n",
    "plt.axvline(x=3.17, c=\"r\")\n",
    "x1 = np.linspace(gunny_bags[\"Breaking strength\"].min(), 3.17, 50) # create an array of 50 numbers between min and 3.17\n",
    "plt.fill_between(x1, norm.pdf(x1, 5, 1.5), color=\"r\") # fill the specified region with red color\n",
    "plt.title(\"Normal Distribution\")\n",
    "plt.xlabel(\"Breaking strength (kg per sq cm)\")\n",
    "plt.ylabel(\"Probability\")\n",
    "plt.show() "
   ]
  },
  {
   "cell_type": "markdown",
   "id": "f24268c9",
   "metadata": {},
   "source": [
    "#### 2.2 What proportion of the gunny bags have a breaking strength of at least 3.6 kg per sq cm.? "
   ]
  },
  {
   "cell_type": "code",
   "execution_count": 905,
   "id": "dcacf6c8",
   "metadata": {},
   "outputs": [
    {
     "name": "stdout",
     "output_type": "stream",
     "text": [
      "The proportion of the gunny bags that have a breaking strength of at least 3.6 kg per sq cm. is 82.5%\n"
     ]
    }
   ],
   "source": [
    "b = (1 - stats.norm.cdf(3.6, loc=5, scale=1.5))*100\n",
    "print('The proportion of the gunny bags that have a breaking strength of at least 3.6 kg per sq cm. is %1.1f' % b +'%')"
   ]
  },
  {
   "cell_type": "code",
   "execution_count": 906,
   "id": "58751247",
   "metadata": {},
   "outputs": [
    {
     "data": {
      "image/png": "[encoded data removed]",
      "text/plain": [
       "<Figure size 432x288 with 1 Axes>"
      ]
     },
     "metadata": {
      "needs_background": "light"
     },
     "output_type": "display_data"
    }
   ],
   "source": [
    "plt.plot(gunny_bags[\"Breaking strength\"], gunny_bags[\"pdf\"], color=\"blue\")\n",
    "plt.axvline(x=3.6, c=\"r\")\n",
    "x2 = np.linspace(3.6, gunny_bags[\"Breaking strength\"].max(), 50) # create an array of 50 numbers between 3.6 and max\n",
    "plt.fill_between(x2, norm.pdf(x2, 5, 1.5), color=\"r\") # fill the specified region with red color\n",
    "plt.title(\"Normal Distribution\")\n",
    "plt.xlabel(\"Breaking strength (kg per sq cm)\")\n",
    "plt.ylabel(\"Probability\")\n",
    "plt.show() "
   ]
  },
  {
   "cell_type": "markdown",
   "id": "1379bc13",
   "metadata": {},
   "source": [
    "#### 2.3 What proportion of the gunny bags have a breaking strength between 5 and 5.5 kg per sq cm.?"
   ]
  },
  {
   "cell_type": "code",
   "execution_count": 907,
   "id": "32361e7c",
   "metadata": {},
   "outputs": [
    {
     "name": "stdout",
     "output_type": "stream",
     "text": [
      "The proportion of the gunny bags that have a breaking strength between 5 and 5.5 kg per sq cm. is 13.1%\n"
     ]
    }
   ],
   "source": [
    "p = (5-5)/1.5\n",
    "q = (5.5-5)/1.5\n",
    "r = (stats.norm.cdf(q) - stats.norm.cdf(p))*100\n",
    "print('The proportion of the gunny bags that have a breaking strength between 5 and 5.5 kg per sq cm. is %1.1f' % r +'%')"
   ]
  },
  {
   "cell_type": "code",
   "execution_count": 908,
   "id": "31f672ca",
   "metadata": {},
   "outputs": [
    {
     "data": {
      "image/png": "[encoded data removed]",
      "text/plain": [
       "<Figure size 432x288 with 1 Axes>"
      ]
     },
     "metadata": {
      "needs_background": "light"
     },
     "output_type": "display_data"
    }
   ],
   "source": [
    "plt.plot(gunny_bags[\"Breaking strength\"], gunny_bags[\"pdf\"], color=\"blue\")\n",
    "plt.axvline(x=5, c=\"r\")\n",
    "plt.axvline(x=5.5, c=\"r\")\n",
    "x3 = np.linspace(5, 5.5, 50) # create an array of 50 numbers between 5 and 5.5\n",
    "plt.fill_between(x3, norm.pdf(x3, 5, 1.5), color=\"r\") # fill the specified region with red color\n",
    "plt.title(\"Normal Distribution\")\n",
    "plt.xlabel(\"Breaking strength (kg per sq cm)\")\n",
    "plt.ylabel(\"Probability\")\n",
    "plt.show() "
   ]
  },
  {
   "cell_type": "markdown",
   "id": "37f311e0",
   "metadata": {},
   "source": [
    "#### 2.4 What proportion of the gunny bags have a breaking strength NOT between 3 and 7.5 kg per sq cm.? "
   ]
  },
  {
   "cell_type": "code",
   "execution_count": 909,
   "id": "df9298d8",
   "metadata": {},
   "outputs": [
    {
     "name": "stdout",
     "output_type": "stream",
     "text": [
      "The proportion of the gunny bags that have a breaking strength NOT between 3 and 7.5 kg per sq cm.is 13.9%\n"
     ]
    }
   ],
   "source": [
    "l = (3-5)/1.5\n",
    "m = (7.5-5)/1.5\n",
    "n = stats.norm.cdf(m) - stats.norm.cdf(l)\n",
    "o = (1 - n)*100\n",
    "print('The proportion of the gunny bags that have a breaking strength NOT between 3 and 7.5 kg per sq cm.is %1.1f' % o +'%')"
   ]
  },
  {
   "cell_type": "code",
   "execution_count": 910,
   "id": "0bda6031",
   "metadata": {},
   "outputs": [
    {
     "data": {
      "image/png": "[encoded data removed]",
      "text/plain": [
       "<Figure size 432x288 with 1 Axes>"
      ]
     },
     "metadata": {
      "needs_background": "light"
     },
     "output_type": "display_data"
    }
   ],
   "source": [
    "plt.plot(gunny_bags[\"Breaking strength\"], gunny_bags[\"pdf\"], color=\"blue\")\n",
    "plt.axvline(x=3, c=\"r\")\n",
    "plt.axvline(x=7.5, c=\"r\")\n",
    "x4 = np.linspace(gunny_bags[\"Breaking strength\"].min(), 3, 50) # create an array of 50 numbers between min and 3\n",
    "plt.fill_between(x4, norm.pdf(x4, 5, 1.5), color=\"r\") # fill the specified region with red color\n",
    "x5 = np.linspace(7.5, gunny_bags[\"Breaking strength\"].max(), 50) # create an array of 50 numbers between 7.5 and max\n",
    "plt.fill_between(x5, norm.pdf(x5, 5, 1.5), color=\"r\") # fill the specified region with red color\n",
    "plt.title(\"Normal Distribution\")\n",
    "plt.xlabel(\"Breaking strength (kg per sq cm)\")\n",
    "plt.ylabel(\"Probability\")\n",
    "plt.show() "
   ]
  },
  {
   "cell_type": "markdown",
   "id": "2351ab4d",
   "metadata": {},
   "source": [
    "# Problem 3 "
   ]
  },
  {
   "cell_type": "markdown",
   "id": "6244dc5b",
   "metadata": {},
   "source": [
    "Zingaro stone printing is a company that specializes in printing images or patterns on polished or unpolished stones. However, for the optimum level of printing of the image, the stone surface has to have a Brinell's hardness index of at least 150. Recently, Zingaro has received a batch of polished and unpolished stones from its clients. Use the data provided to answer the following (assuming a 5% significance level);"
   ]
  },
  {
   "cell_type": "code",
   "execution_count": 2,
   "id": "809c4c8d",
   "metadata": {},
   "outputs": [],
   "source": [
    "import numpy                     as     np\n",
    "import pandas                    as     pd\n",
    "from   scipy.stats               import ttest_1samp, ttest_ind\n",
    "import matplotlib.pyplot         as     plt\n",
    "import matplotlib\n",
    "import seaborn as sns\n",
    "import scipy.stats as stats\n",
    "import statsmodels.stats.api as sm"
   ]
  },
  {
   "cell_type": "code",
   "execution_count": 3,
   "id": "9e96e064",
   "metadata": {},
   "outputs": [
    {
     "data": {
      "text/html": [
       "<div>\n",
       "<style scoped>\n",
       "    .dataframe tbody tr th:only-of-type {\n",
       "        vertical-align: middle;\n",
       "    }\n",
       "\n",
       "    .dataframe tbody tr th {\n",
       "        vertical-align: top;\n",
       "    }\n",
       "\n",
       "    .dataframe thead th {\n",
       "        text-align: right;\n",
       "    }\n",
       "</style>\n",
       "<table border=\"1\" class=\"dataframe\">\n",
       "  <thead>\n",
       "    <tr style=\"text-align: right;\">\n",
       "      <th></th>\n",
       "      <th>unpolished</th>\n",
       "      <th>Treated and Polished</th>\n",
       "    </tr>\n",
       "  </thead>\n",
       "  <tbody>\n",
       "    <tr>\n",
       "      <th>0</th>\n",
       "      <td>164.481713</td>\n",
       "      <td>133.209393</td>\n",
       "    </tr>\n",
       "    <tr>\n",
       "      <th>1</th>\n",
       "      <td>154.307045</td>\n",
       "      <td>138.482771</td>\n",
       "    </tr>\n",
       "    <tr>\n",
       "      <th>2</th>\n",
       "      <td>129.861048</td>\n",
       "      <td>159.665201</td>\n",
       "    </tr>\n",
       "    <tr>\n",
       "      <th>3</th>\n",
       "      <td>159.096184</td>\n",
       "      <td>145.663528</td>\n",
       "    </tr>\n",
       "    <tr>\n",
       "      <th>4</th>\n",
       "      <td>135.256748</td>\n",
       "      <td>136.789227</td>\n",
       "    </tr>\n",
       "    <tr>\n",
       "      <th>...</th>\n",
       "      <td>...</td>\n",
       "      <td>...</td>\n",
       "    </tr>\n",
       "    <tr>\n",
       "      <th>70</th>\n",
       "      <td>123.067611</td>\n",
       "      <td>142.293544</td>\n",
       "    </tr>\n",
       "    <tr>\n",
       "      <th>71</th>\n",
       "      <td>171.822218</td>\n",
       "      <td>140.124092</td>\n",
       "    </tr>\n",
       "    <tr>\n",
       "      <th>72</th>\n",
       "      <td>88.135994</td>\n",
       "      <td>141.393091</td>\n",
       "    </tr>\n",
       "    <tr>\n",
       "      <th>73</th>\n",
       "      <td>145.150397</td>\n",
       "      <td>131.370530</td>\n",
       "    </tr>\n",
       "    <tr>\n",
       "      <th>74</th>\n",
       "      <td>170.854823</td>\n",
       "      <td>144.502647</td>\n",
       "    </tr>\n",
       "  </tbody>\n",
       "</table>\n",
       "<p>75 rows × 2 columns</p>\n",
       "</div>"
      ],
      "text/plain": [
       "    unpolished  Treated and Polished\n",
       "0   164.481713            133.209393\n",
       "1   154.307045            138.482771\n",
       "2   129.861048            159.665201\n",
       "3   159.096184            145.663528\n",
       "4   135.256748            136.789227\n",
       "..         ...                   ...\n",
       "70  123.067611            142.293544\n",
       "71  171.822218            140.124092\n",
       "72   88.135994            141.393091\n",
       "73  145.150397            131.370530\n",
       "74  170.854823            144.502647\n",
       "\n",
       "[75 rows x 2 columns]"
      ]
     },
     "execution_count": 3,
     "metadata": {},
     "output_type": "execute_result"
    }
   ],
   "source": [
    "df = pd.read_csv(r'D:\\dsba\\inferential statistics\\Zingaro_Company_new.csv')\n",
    "df"
   ]
  },
  {
   "cell_type": "code",
   "execution_count": 4,
   "id": "95794de3",
   "metadata": {},
   "outputs": [
    {
     "name": "stdout",
     "output_type": "stream",
     "text": [
      "<class 'pandas.core.frame.DataFrame'>\n",
      "RangeIndex: 75 entries, 0 to 74\n",
      "Data columns (total 2 columns):\n",
      " #   Column                Non-Null Count  Dtype  \n",
      "---  ------                --------------  -----  \n",
      " 0   unpolished            75 non-null     float64\n",
      " 1   Treated and Polished  75 non-null     float64\n",
      "dtypes: float64(2)\n",
      "memory usage: 1.3 KB\n"
     ]
    }
   ],
   "source": [
    "df.info()"
   ]
  },
  {
   "cell_type": "code",
   "execution_count": 5,
   "id": "9a9ad485",
   "metadata": {},
   "outputs": [
    {
     "data": {
      "text/html": [
       "<div>\n",
       "<style scoped>\n",
       "    .dataframe tbody tr th:only-of-type {\n",
       "        vertical-align: middle;\n",
       "    }\n",
       "\n",
       "    .dataframe tbody tr th {\n",
       "        vertical-align: top;\n",
       "    }\n",
       "\n",
       "    .dataframe thead th {\n",
       "        text-align: right;\n",
       "    }\n",
       "</style>\n",
       "<table border=\"1\" class=\"dataframe\">\n",
       "  <thead>\n",
       "    <tr style=\"text-align: right;\">\n",
       "      <th></th>\n",
       "      <th>unpolished</th>\n",
       "      <th>Treated and Polished</th>\n",
       "    </tr>\n",
       "  </thead>\n",
       "  <tbody>\n",
       "    <tr>\n",
       "      <th>count</th>\n",
       "      <td>75.000000</td>\n",
       "      <td>75.000000</td>\n",
       "    </tr>\n",
       "    <tr>\n",
       "      <th>mean</th>\n",
       "      <td>134.110527</td>\n",
       "      <td>147.788117</td>\n",
       "    </tr>\n",
       "    <tr>\n",
       "      <th>std</th>\n",
       "      <td>33.041804</td>\n",
       "      <td>15.587355</td>\n",
       "    </tr>\n",
       "    <tr>\n",
       "      <th>min</th>\n",
       "      <td>48.406838</td>\n",
       "      <td>107.524167</td>\n",
       "    </tr>\n",
       "    <tr>\n",
       "      <th>25%</th>\n",
       "      <td>115.329753</td>\n",
       "      <td>138.268300</td>\n",
       "    </tr>\n",
       "    <tr>\n",
       "      <th>50%</th>\n",
       "      <td>135.597121</td>\n",
       "      <td>145.721322</td>\n",
       "    </tr>\n",
       "    <tr>\n",
       "      <th>75%</th>\n",
       "      <td>158.215098</td>\n",
       "      <td>157.373318</td>\n",
       "    </tr>\n",
       "    <tr>\n",
       "      <th>max</th>\n",
       "      <td>200.161313</td>\n",
       "      <td>192.272856</td>\n",
       "    </tr>\n",
       "  </tbody>\n",
       "</table>\n",
       "</div>"
      ],
      "text/plain": [
       "       unpolished  Treated and Polished\n",
       "count   75.000000             75.000000\n",
       "mean   134.110527            147.788117\n",
       "std     33.041804             15.587355\n",
       "min     48.406838            107.524167\n",
       "25%    115.329753            138.268300\n",
       "50%    135.597121            145.721322\n",
       "75%    158.215098            157.373318\n",
       "max    200.161313            192.272856"
      ]
     },
     "execution_count": 5,
     "metadata": {},
     "output_type": "execute_result"
    }
   ],
   "source": [
    "df.describe()"
   ]
  },
  {
   "cell_type": "markdown",
   "id": "d1656593",
   "metadata": {},
   "source": [
    "#### 3.1 Zingaro has reason to believe that the unpolished stones may not be suitable for printing. Do you think Zingaro is justified in thinking so? "
   ]
  },
  {
   "cell_type": "code",
   "execution_count": 6,
   "id": "baaf447f",
   "metadata": {},
   "outputs": [
    {
     "data": {
      "text/html": [
       "<div>\n",
       "<style scoped>\n",
       "    .dataframe tbody tr th:only-of-type {\n",
       "        vertical-align: middle;\n",
       "    }\n",
       "\n",
       "    .dataframe tbody tr th {\n",
       "        vertical-align: top;\n",
       "    }\n",
       "\n",
       "    .dataframe thead th {\n",
       "        text-align: right;\n",
       "    }\n",
       "</style>\n",
       "<table border=\"1\" class=\"dataframe\">\n",
       "  <thead>\n",
       "    <tr style=\"text-align: right;\">\n",
       "      <th></th>\n",
       "      <th>unpolished</th>\n",
       "    </tr>\n",
       "  </thead>\n",
       "  <tbody>\n",
       "    <tr>\n",
       "      <th>0</th>\n",
       "      <td>164.481713</td>\n",
       "    </tr>\n",
       "    <tr>\n",
       "      <th>1</th>\n",
       "      <td>154.307045</td>\n",
       "    </tr>\n",
       "    <tr>\n",
       "      <th>2</th>\n",
       "      <td>129.861048</td>\n",
       "    </tr>\n",
       "    <tr>\n",
       "      <th>3</th>\n",
       "      <td>159.096184</td>\n",
       "    </tr>\n",
       "    <tr>\n",
       "      <th>4</th>\n",
       "      <td>135.256748</td>\n",
       "    </tr>\n",
       "    <tr>\n",
       "      <th>...</th>\n",
       "      <td>...</td>\n",
       "    </tr>\n",
       "    <tr>\n",
       "      <th>70</th>\n",
       "      <td>123.067611</td>\n",
       "    </tr>\n",
       "    <tr>\n",
       "      <th>71</th>\n",
       "      <td>171.822218</td>\n",
       "    </tr>\n",
       "    <tr>\n",
       "      <th>72</th>\n",
       "      <td>88.135994</td>\n",
       "    </tr>\n",
       "    <tr>\n",
       "      <th>73</th>\n",
       "      <td>145.150397</td>\n",
       "    </tr>\n",
       "    <tr>\n",
       "      <th>74</th>\n",
       "      <td>170.854823</td>\n",
       "    </tr>\n",
       "  </tbody>\n",
       "</table>\n",
       "<p>75 rows × 1 columns</p>\n",
       "</div>"
      ],
      "text/plain": [
       "    unpolished\n",
       "0   164.481713\n",
       "1   154.307045\n",
       "2   129.861048\n",
       "3   159.096184\n",
       "4   135.256748\n",
       "..         ...\n",
       "70  123.067611\n",
       "71  171.822218\n",
       "72   88.135994\n",
       "73  145.150397\n",
       "74  170.854823\n",
       "\n",
       "[75 rows x 1 columns]"
      ]
     },
     "execution_count": 6,
     "metadata": {},
     "output_type": "execute_result"
    }
   ],
   "source": [
    "new_df = df[['unpolished']].copy()\n",
    "new_df"
   ]
  },
  {
   "cell_type": "markdown",
   "id": "07832c9e",
   "metadata": {},
   "source": [
    "- Null hypothesis: mean hardness >= 150 (unpolished stones are suitable for printing) \n",
    "- Alternate hypothesis: mean hardness < 150 (i.e. unpolished stones are unsuitable for printing)\n",
    "- α = 0.05"
   ]
  },
  {
   "cell_type": "code",
   "execution_count": 10,
   "id": "38a4bf38",
   "metadata": {},
   "outputs": [
    {
     "name": "stdout",
     "output_type": "stream",
     "text": [
      "One sample t test: \n",
      "t statistic: [-4.1646296] and p value: [8.34257399e-05] \n"
     ]
    }
   ],
   "source": [
    "t_statistic, p_value = ttest_1samp(new_df, 150)\n",
    "print('One sample t test: \\nt statistic: {0} and p value: {1} '.format(t_statistic, p_value))"
   ]
  },
  {
   "cell_type": "code",
   "execution_count": 11,
   "id": "5d2c2c71",
   "metadata": {},
   "outputs": [
    {
     "name": "stdout",
     "output_type": "stream",
     "text": [
      "Level of significance: 0.05\n",
      "Reject the null hypothesis. There is sufficient evidence to suggest that the mean Brinell's hardness index of the unpolished stones is less than 150.\n",
      "Unpolished stones are unsuitable for printing.\n",
      "p-value of one-sample t-test = [8.34257399e-05]\n"
     ]
    }
   ],
   "source": [
    "alpha_value = 0.05\n",
    "print('Level of significance: %.2f' %alpha_value)\n",
    "if p_value < alpha_value: \n",
    "    print(\"Reject the null hypothesis. There is sufficient evidence to suggest that the mean Brinell's hardness index of the unpolished stones is less than 150.\")\n",
    "    print('Unpolished stones are unsuitable for printing.')\n",
    "else:\n",
    "    print(\"Fail to reject the null hypothesis. There is not sufficient evidence to suggest that the mean Brinell's hardness index of the unpolished stones is less than 150.\")\n",
    "    print('Unpolished stones are suitable for printing.')\n",
    "\n",
    "print (\"p-value of one-sample t-test =\", p_value)"
   ]
  },
  {
   "cell_type": "markdown",
   "id": "f2b48dca",
   "metadata": {},
   "source": [
    "#### 3.2 Is the mean hardness of the polished and unpolished stones the same? "
   ]
  },
  {
   "cell_type": "markdown",
   "id": "1b6d1b60",
   "metadata": {},
   "source": [
    "- We have two samples and we do not know the population standard deviation.\n",
    "- Sample sizes for both samples are same.\n",
    "- We can use two-sample t-test.\n",
    "- Null hypothesis: Mean of Brinell's hardness index of both are the same.\n",
    "- Alternate hypothesis: Mean of Brinell's hardness index of both are not the same."
   ]
  },
  {
   "cell_type": "code",
   "execution_count": 918,
   "id": "fcf35730",
   "metadata": {},
   "outputs": [
    {
     "name": "stdout",
     "output_type": "stream",
     "text": [
      "Tstat = -3.242232050141406\n",
      "P Value = 0.001465515019462831\n"
     ]
    }
   ],
   "source": [
    "t_statistic, p_value  = ttest_ind(df['unpolished'],df['Treated and Polished'])\n",
    "print('Tstat =',t_statistic)    \n",
    "print('P Value =',p_value) "
   ]
  },
  {
   "cell_type": "code",
   "execution_count": 919,
   "id": "733a7d44",
   "metadata": {},
   "outputs": [
    {
     "name": "stdout",
     "output_type": "stream",
     "text": [
      "p-value of Two-sample t-test = 0.001465515019462831\n",
      "We have enough evidence to reject the null hypothesis in favour of alternative hypothesis.\n",
      "Mean of Brinell hardness index of both are not the same.\n"
     ]
    }
   ],
   "source": [
    "print (\"p-value of Two-sample t-test =\", p_value)\n",
    "\n",
    "alpha_level = 0.05\n",
    "\n",
    "if p_value < alpha_level:\n",
    "    print('We have enough evidence to reject the null hypothesis in favour of alternative hypothesis.')\n",
    "    print('Mean of Brinell hardness index of both are not the same.')\n",
    "else:\n",
    "    print('We do not have enough evidence to reject the null hypothesis in favour of alternative hypothesis.')\n",
    "    print('Mean of Brinell hardness index of both are the same.')"
   ]
  },
  {
   "cell_type": "markdown",
   "id": "cc59bd5d",
   "metadata": {},
   "source": [
    "# Problem 4"
   ]
  },
  {
   "cell_type": "markdown",
   "id": "34499cbe",
   "metadata": {},
   "source": [
    "Dental implant data: The hardness of metal implants in dental cavities depends on multiple factors, such as the method of implant, the temperature at which the metal is treated, the alloy used as well as the dentists who may favor one method above another and may work better in his/her favorite method. The response is the variable of interest."
   ]
  },
  {
   "cell_type": "code",
   "execution_count": 920,
   "id": "affb02b9",
   "metadata": {},
   "outputs": [
    {
     "data": {
      "text/html": [
       "<div>\n",
       "<style scoped>\n",
       "    .dataframe tbody tr th:only-of-type {\n",
       "        vertical-align: middle;\n",
       "    }\n",
       "\n",
       "    .dataframe tbody tr th {\n",
       "        vertical-align: top;\n",
       "    }\n",
       "\n",
       "    .dataframe thead th {\n",
       "        text-align: right;\n",
       "    }\n",
       "</style>\n",
       "<table border=\"1\" class=\"dataframe\">\n",
       "  <thead>\n",
       "    <tr style=\"text-align: right;\">\n",
       "      <th></th>\n",
       "      <th>Dentist</th>\n",
       "      <th>Method</th>\n",
       "      <th>Alloy</th>\n",
       "      <th>Temp</th>\n",
       "      <th>Response</th>\n",
       "      <th>Unnamed: 5</th>\n",
       "      <th>Unnamed: 6</th>\n",
       "      <th>Unnamed: 7</th>\n",
       "      <th>Unnamed: 8</th>\n",
       "      <th>Unnamed: 9</th>\n",
       "      <th>Unnamed: 10</th>\n",
       "      <th>Unnamed: 11</th>\n",
       "      <th>Unnamed: 12</th>\n",
       "      <th>Unnamed: 13</th>\n",
       "    </tr>\n",
       "  </thead>\n",
       "  <tbody>\n",
       "    <tr>\n",
       "      <th>0</th>\n",
       "      <td>1.0</td>\n",
       "      <td>1.0</td>\n",
       "      <td>1.0</td>\n",
       "      <td>1500.0</td>\n",
       "      <td>813.0</td>\n",
       "      <td>NaN</td>\n",
       "      <td>NaN</td>\n",
       "      <td>Anova: Two-Factor Without Replication</td>\n",
       "      <td>NaN</td>\n",
       "      <td>NaN</td>\n",
       "      <td>NaN</td>\n",
       "      <td>NaN</td>\n",
       "      <td>NaN</td>\n",
       "      <td>NaN</td>\n",
       "    </tr>\n",
       "    <tr>\n",
       "      <th>1</th>\n",
       "      <td>1.0</td>\n",
       "      <td>1.0</td>\n",
       "      <td>1.0</td>\n",
       "      <td>1600.0</td>\n",
       "      <td>792.0</td>\n",
       "      <td>NaN</td>\n",
       "      <td>NaN</td>\n",
       "      <td>NaN</td>\n",
       "      <td>NaN</td>\n",
       "      <td>NaN</td>\n",
       "      <td>NaN</td>\n",
       "      <td>NaN</td>\n",
       "      <td>NaN</td>\n",
       "      <td>NaN</td>\n",
       "    </tr>\n",
       "    <tr>\n",
       "      <th>2</th>\n",
       "      <td>1.0</td>\n",
       "      <td>1.0</td>\n",
       "      <td>1.0</td>\n",
       "      <td>1700.0</td>\n",
       "      <td>792.0</td>\n",
       "      <td>NaN</td>\n",
       "      <td>NaN</td>\n",
       "      <td>SUMMARY</td>\n",
       "      <td>Count</td>\n",
       "      <td>Sum</td>\n",
       "      <td>Average</td>\n",
       "      <td>Variance</td>\n",
       "      <td>NaN</td>\n",
       "      <td>NaN</td>\n",
       "    </tr>\n",
       "    <tr>\n",
       "      <th>3</th>\n",
       "      <td>1.0</td>\n",
       "      <td>1.0</td>\n",
       "      <td>2.0</td>\n",
       "      <td>1500.0</td>\n",
       "      <td>907.0</td>\n",
       "      <td>NaN</td>\n",
       "      <td>NaN</td>\n",
       "      <td>1</td>\n",
       "      <td>4</td>\n",
       "      <td>2315</td>\n",
       "      <td>578.75</td>\n",
       "      <td>523721.583333</td>\n",
       "      <td>NaN</td>\n",
       "      <td>NaN</td>\n",
       "    </tr>\n",
       "    <tr>\n",
       "      <th>4</th>\n",
       "      <td>1.0</td>\n",
       "      <td>1.0</td>\n",
       "      <td>2.0</td>\n",
       "      <td>1600.0</td>\n",
       "      <td>792.0</td>\n",
       "      <td>NaN</td>\n",
       "      <td>NaN</td>\n",
       "      <td>1</td>\n",
       "      <td>4</td>\n",
       "      <td>2394</td>\n",
       "      <td>598.5</td>\n",
       "      <td>584819</td>\n",
       "      <td>NaN</td>\n",
       "      <td>NaN</td>\n",
       "    </tr>\n",
       "  </tbody>\n",
       "</table>\n",
       "</div>"
      ],
      "text/plain": [
       "   Dentist  Method  Alloy    Temp  Response  Unnamed: 5  Unnamed: 6  \\\n",
       "0      1.0     1.0    1.0  1500.0     813.0         NaN         NaN   \n",
       "1      1.0     1.0    1.0  1600.0     792.0         NaN         NaN   \n",
       "2      1.0     1.0    1.0  1700.0     792.0         NaN         NaN   \n",
       "3      1.0     1.0    2.0  1500.0     907.0         NaN         NaN   \n",
       "4      1.0     1.0    2.0  1600.0     792.0         NaN         NaN   \n",
       "\n",
       "                              Unnamed: 7 Unnamed: 8 Unnamed: 9 Unnamed: 10  \\\n",
       "0  Anova: Two-Factor Without Replication        NaN        NaN         NaN   \n",
       "1                                    NaN        NaN        NaN         NaN   \n",
       "2                                SUMMARY      Count        Sum     Average   \n",
       "3                                      1          4       2315      578.75   \n",
       "4                                      1          4       2394       598.5   \n",
       "\n",
       "     Unnamed: 11 Unnamed: 12 Unnamed: 13  \n",
       "0            NaN         NaN         NaN  \n",
       "1            NaN         NaN         NaN  \n",
       "2       Variance         NaN         NaN  \n",
       "3  523721.583333         NaN         NaN  \n",
       "4         584819         NaN         NaN  "
      ]
     },
     "execution_count": 920,
     "metadata": {},
     "output_type": "execute_result"
    }
   ],
   "source": [
    "dental = pd.read_excel(r'D:\\dsba\\inferential statistics\\Dental+Hardness.xlsx')\n",
    "dental.head()"
   ]
  },
  {
   "cell_type": "markdown",
   "id": "f727534d",
   "metadata": {},
   "source": [
    "Drop unnamed columns"
   ]
  },
  {
   "cell_type": "code",
   "execution_count": 921,
   "id": "9c0a06b7",
   "metadata": {},
   "outputs": [],
   "source": [
    "dental.drop(columns=['Unnamed: 5','Unnamed: 6', 'Unnamed: 7', 'Unnamed: 8', 'Unnamed: 9', 'Unnamed: 10', 'Unnamed: 11', 'Unnamed: 12','Unnamed: 13'], inplace=True, axis=1)"
   ]
  },
  {
   "cell_type": "code",
   "execution_count": 970,
   "id": "62595d12",
   "metadata": {},
   "outputs": [
    {
     "name": "stdout",
     "output_type": "stream",
     "text": [
      "<class 'pandas.core.frame.DataFrame'>\n",
      "Int64Index: 90 entries, 0 to 89\n",
      "Data columns (total 5 columns):\n",
      " #   Column    Non-Null Count  Dtype   \n",
      "---  ------    --------------  -----   \n",
      " 0   Dentist   90 non-null     category\n",
      " 1   Method    90 non-null     category\n",
      " 2   Alloy     90 non-null     category\n",
      " 3   Temp      90 non-null     float64 \n",
      " 4   Response  90 non-null     float64 \n",
      "dtypes: category(3), float64(2)\n",
      "memory usage: 2.8 KB\n"
     ]
    }
   ],
   "source": [
    "dental.Dentist = pd.Categorical(dental.Dentist)\n",
    "dental.Method = pd.Categorical(dental.Method)\n",
    "dental.Alloy = pd.Categorical(dental.Alloy)\n",
    "dental.info()"
   ]
  },
  {
   "cell_type": "code",
   "execution_count": 971,
   "id": "9aec7a8d",
   "metadata": {},
   "outputs": [
    {
     "data": {
      "text/plain": [
       "(90, 5)"
      ]
     },
     "execution_count": 971,
     "metadata": {},
     "output_type": "execute_result"
    }
   ],
   "source": [
    "dental.shape"
   ]
  },
  {
   "cell_type": "code",
   "execution_count": 972,
   "id": "6868a03b",
   "metadata": {},
   "outputs": [
    {
     "name": "stdout",
     "output_type": "stream",
     "text": [
      "Number of duplicate rows = 0\n"
     ]
    },
    {
     "data": {
      "text/html": [
       "<div>\n",
       "<style scoped>\n",
       "    .dataframe tbody tr th:only-of-type {\n",
       "        vertical-align: middle;\n",
       "    }\n",
       "\n",
       "    .dataframe tbody tr th {\n",
       "        vertical-align: top;\n",
       "    }\n",
       "\n",
       "    .dataframe thead th {\n",
       "        text-align: right;\n",
       "    }\n",
       "</style>\n",
       "<table border=\"1\" class=\"dataframe\">\n",
       "  <thead>\n",
       "    <tr style=\"text-align: right;\">\n",
       "      <th></th>\n",
       "      <th>Dentist</th>\n",
       "      <th>Method</th>\n",
       "      <th>Alloy</th>\n",
       "      <th>Temp</th>\n",
       "      <th>Response</th>\n",
       "    </tr>\n",
       "  </thead>\n",
       "  <tbody>\n",
       "  </tbody>\n",
       "</table>\n",
       "</div>"
      ],
      "text/plain": [
       "Empty DataFrame\n",
       "Columns: [Dentist, Method, Alloy, Temp, Response]\n",
       "Index: []"
      ]
     },
     "execution_count": 972,
     "metadata": {},
     "output_type": "execute_result"
    }
   ],
   "source": [
    "# Check for duplicate data\n",
    "duplicate = dental.duplicated()\n",
    "print('Number of duplicate rows = %d' % (duplicate.sum()))\n",
    "dental[duplicate]"
   ]
  },
  {
   "cell_type": "code",
   "execution_count": 973,
   "id": "52a4ca94",
   "metadata": {},
   "outputs": [],
   "source": [
    "#Drop duplicates\n",
    "dental.drop_duplicates(inplace=True)"
   ]
  },
  {
   "cell_type": "code",
   "execution_count": 974,
   "id": "6b384a34",
   "metadata": {},
   "outputs": [
    {
     "data": {
      "text/plain": [
       "(90, 5)"
      ]
     },
     "execution_count": 974,
     "metadata": {},
     "output_type": "execute_result"
    }
   ],
   "source": [
    "dental.shape"
   ]
  },
  {
   "cell_type": "code",
   "execution_count": 1016,
   "id": "44b82c29",
   "metadata": {},
   "outputs": [
    {
     "name": "stdout",
     "output_type": "stream",
     "text": [
      "Dentist 0\n",
      "Method 0\n",
      "Alloy 0\n",
      "Temp 0\n",
      "Response 0\n"
     ]
    }
   ],
   "source": [
    "#Check for columns with null values\n",
    "for i in dental.columns:\n",
    "    print(i,dental[i].isnull().sum())"
   ]
  },
  {
   "cell_type": "code",
   "execution_count": 978,
   "id": "8a49c4d6",
   "metadata": {},
   "outputs": [
    {
     "data": {
      "text/html": [
       "<div>\n",
       "<style scoped>\n",
       "    .dataframe tbody tr th:only-of-type {\n",
       "        vertical-align: middle;\n",
       "    }\n",
       "\n",
       "    .dataframe tbody tr th {\n",
       "        vertical-align: top;\n",
       "    }\n",
       "\n",
       "    .dataframe thead th {\n",
       "        text-align: right;\n",
       "    }\n",
       "</style>\n",
       "<table border=\"1\" class=\"dataframe\">\n",
       "  <thead>\n",
       "    <tr style=\"text-align: right;\">\n",
       "      <th></th>\n",
       "      <th>Temp</th>\n",
       "      <th>Response</th>\n",
       "    </tr>\n",
       "  </thead>\n",
       "  <tbody>\n",
       "    <tr>\n",
       "      <th>count</th>\n",
       "      <td>90.000000</td>\n",
       "      <td>90.000000</td>\n",
       "    </tr>\n",
       "    <tr>\n",
       "      <th>mean</th>\n",
       "      <td>1600.000000</td>\n",
       "      <td>741.777778</td>\n",
       "    </tr>\n",
       "    <tr>\n",
       "      <th>std</th>\n",
       "      <td>82.107083</td>\n",
       "      <td>145.767845</td>\n",
       "    </tr>\n",
       "    <tr>\n",
       "      <th>min</th>\n",
       "      <td>1500.000000</td>\n",
       "      <td>289.000000</td>\n",
       "    </tr>\n",
       "    <tr>\n",
       "      <th>25%</th>\n",
       "      <td>1500.000000</td>\n",
       "      <td>698.000000</td>\n",
       "    </tr>\n",
       "    <tr>\n",
       "      <th>50%</th>\n",
       "      <td>1600.000000</td>\n",
       "      <td>767.000000</td>\n",
       "    </tr>\n",
       "    <tr>\n",
       "      <th>75%</th>\n",
       "      <td>1700.000000</td>\n",
       "      <td>824.000000</td>\n",
       "    </tr>\n",
       "    <tr>\n",
       "      <th>max</th>\n",
       "      <td>1700.000000</td>\n",
       "      <td>1115.000000</td>\n",
       "    </tr>\n",
       "  </tbody>\n",
       "</table>\n",
       "</div>"
      ],
      "text/plain": [
       "              Temp     Response\n",
       "count    90.000000    90.000000\n",
       "mean   1600.000000   741.777778\n",
       "std      82.107083   145.767845\n",
       "min    1500.000000   289.000000\n",
       "25%    1500.000000   698.000000\n",
       "50%    1600.000000   767.000000\n",
       "75%    1700.000000   824.000000\n",
       "max    1700.000000  1115.000000"
      ]
     },
     "execution_count": 978,
     "metadata": {},
     "output_type": "execute_result"
    }
   ],
   "source": [
    "dental.describe()"
   ]
  },
  {
   "cell_type": "code",
   "execution_count": 979,
   "id": "82276436",
   "metadata": {},
   "outputs": [
    {
     "data": {
      "text/plain": [
       "array([1500., 1600., 1700.])"
      ]
     },
     "execution_count": 979,
     "metadata": {},
     "output_type": "execute_result"
    }
   ],
   "source": [
    "dental['Temp'].unique()"
   ]
  },
  {
   "cell_type": "code",
   "execution_count": 980,
   "id": "0c46d466",
   "metadata": {},
   "outputs": [
    {
     "name": "stderr",
     "output_type": "stream",
     "text": [
      "D:\\Anaconda\\lib\\site-packages\\IPython\\lib\\pretty.py:778: FutureWarning: Index.ravel returning ndarray is deprecated; in a future version this will return a view on self.\n",
      "  output = repr(obj)\n"
     ]
    },
    {
     "data": {
      "text/plain": [
       "[1.0, 2.0]\n",
       "Categories (2, float64): [1.0, 2.0]"
      ]
     },
     "execution_count": 980,
     "metadata": {},
     "output_type": "execute_result"
    }
   ],
   "source": [
    "dental['Alloy'].unique()"
   ]
  },
  {
   "cell_type": "code",
   "execution_count": 981,
   "id": "882773a7",
   "metadata": {},
   "outputs": [
    {
     "data": {
      "text/plain": [
       "array([ 813.,  792.,  907.,  835.,  782.,  698.,  665., 1115.,  870.,\n",
       "        752.,  620.,  847.,  560.,  585.,  715.,  803.,  858.,  882.,\n",
       "        772.,  743.,  933.,  824.,  673.,  734.,  681.,  627.,  762.,\n",
       "        724.,  613.,  894.,  649.,  690.,  493.,  707.,  289.,  312.,\n",
       "       1048.,  421.,  483.,  405.,  536.])"
      ]
     },
     "execution_count": 981,
     "metadata": {},
     "output_type": "execute_result"
    }
   ],
   "source": [
    "dental['Response'].unique()"
   ]
  },
  {
   "cell_type": "code",
   "execution_count": 982,
   "id": "90f9759b",
   "metadata": {},
   "outputs": [
    {
     "data": {
      "text/plain": [
       "[1.0, 2.0, 3.0]\n",
       "Categories (3, float64): [1.0, 2.0, 3.0]"
      ]
     },
     "execution_count": 982,
     "metadata": {},
     "output_type": "execute_result"
    }
   ],
   "source": [
    "dental['Method'].unique()"
   ]
  },
  {
   "cell_type": "code",
   "execution_count": 983,
   "id": "7aaaad0b",
   "metadata": {},
   "outputs": [
    {
     "data": {
      "text/plain": [
       "[1.0, 2.0, 3.0, 4.0, 5.0]\n",
       "Categories (5, float64): [1.0, 2.0, 3.0, 4.0, 5.0]"
      ]
     },
     "execution_count": 983,
     "metadata": {},
     "output_type": "execute_result"
    }
   ],
   "source": [
    "dental['Dentist'].unique()"
   ]
  },
  {
   "cell_type": "code",
   "execution_count": 984,
   "id": "5e53d8de",
   "metadata": {},
   "outputs": [
    {
     "data": {
      "text/plain": [
       "1.0    18\n",
       "2.0    18\n",
       "3.0    18\n",
       "4.0    18\n",
       "5.0    18\n",
       "Name: Dentist, dtype: int64"
      ]
     },
     "execution_count": 984,
     "metadata": {},
     "output_type": "execute_result"
    }
   ],
   "source": [
    "dental['Dentist'].value_counts()"
   ]
  },
  {
   "cell_type": "code",
   "execution_count": 985,
   "id": "34226418",
   "metadata": {},
   "outputs": [
    {
     "data": {
      "text/plain": [
       "1.0    30\n",
       "2.0    30\n",
       "3.0    30\n",
       "Name: Method, dtype: int64"
      ]
     },
     "execution_count": 985,
     "metadata": {},
     "output_type": "execute_result"
    }
   ],
   "source": [
    "dental['Method'].value_counts()"
   ]
  },
  {
   "cell_type": "code",
   "execution_count": 986,
   "id": "7c8da4a7",
   "metadata": {},
   "outputs": [
    {
     "data": {
      "text/plain": [
       "1.0    45\n",
       "2.0    45\n",
       "Name: Alloy, dtype: int64"
      ]
     },
     "execution_count": 986,
     "metadata": {},
     "output_type": "execute_result"
    }
   ],
   "source": [
    "dental['Alloy'].value_counts()"
   ]
  },
  {
   "cell_type": "code",
   "execution_count": 987,
   "id": "1aa7c7a4",
   "metadata": {},
   "outputs": [
    {
     "data": {
      "text/plain": [
       "<AxesSubplot:xlabel='Temp'>"
      ]
     },
     "execution_count": 987,
     "metadata": {},
     "output_type": "execute_result"
    },
    {
     "data": {
      "image/png": "[encoded data removed]",
      "text/plain": [
       "<Figure size 432x288 with 1 Axes>"
      ]
     },
     "metadata": {},
     "output_type": "display_data"
    }
   ],
   "source": [
    "#Check for outliers\n",
    "sns.boxplot(data=dental, x='Temp', color='red')"
   ]
  },
  {
   "cell_type": "code",
   "execution_count": 988,
   "id": "2928790e",
   "metadata": {},
   "outputs": [
    {
     "data": {
      "text/plain": [
       "<AxesSubplot:xlabel='Response'>"
      ]
     },
     "execution_count": 988,
     "metadata": {},
     "output_type": "execute_result"
    },
    {
     "data": {
      "image/png": "[encoded data removed]",
      "text/plain": [
       "<Figure size 432x288 with 1 Axes>"
      ]
     },
     "metadata": {},
     "output_type": "display_data"
    }
   ],
   "source": [
    "#Check for outliers\n",
    "sns.boxplot(data=dental, x='Response', color='red')"
   ]
  },
  {
   "cell_type": "code",
   "execution_count": 989,
   "id": "020c7d03",
   "metadata": {},
   "outputs": [
    {
     "data": {
      "text/html": [
       "<div>\n",
       "<style scoped>\n",
       "    .dataframe tbody tr th:only-of-type {\n",
       "        vertical-align: middle;\n",
       "    }\n",
       "\n",
       "    .dataframe tbody tr th {\n",
       "        vertical-align: top;\n",
       "    }\n",
       "\n",
       "    .dataframe thead th {\n",
       "        text-align: right;\n",
       "    }\n",
       "</style>\n",
       "<table border=\"1\" class=\"dataframe\">\n",
       "  <thead>\n",
       "    <tr style=\"text-align: right;\">\n",
       "      <th></th>\n",
       "      <th>Dentist</th>\n",
       "      <th>Method</th>\n",
       "      <th>Alloy</th>\n",
       "      <th>Temp</th>\n",
       "      <th>Response</th>\n",
       "    </tr>\n",
       "  </thead>\n",
       "  <tbody>\n",
       "    <tr>\n",
       "      <th>0</th>\n",
       "      <td>1.0</td>\n",
       "      <td>1.0</td>\n",
       "      <td>1.0</td>\n",
       "      <td>1500.0</td>\n",
       "      <td>813.0</td>\n",
       "    </tr>\n",
       "    <tr>\n",
       "      <th>1</th>\n",
       "      <td>1.0</td>\n",
       "      <td>1.0</td>\n",
       "      <td>1.0</td>\n",
       "      <td>1600.0</td>\n",
       "      <td>792.0</td>\n",
       "    </tr>\n",
       "    <tr>\n",
       "      <th>2</th>\n",
       "      <td>1.0</td>\n",
       "      <td>1.0</td>\n",
       "      <td>1.0</td>\n",
       "      <td>1700.0</td>\n",
       "      <td>792.0</td>\n",
       "    </tr>\n",
       "    <tr>\n",
       "      <th>3</th>\n",
       "      <td>1.0</td>\n",
       "      <td>1.0</td>\n",
       "      <td>2.0</td>\n",
       "      <td>1500.0</td>\n",
       "      <td>907.0</td>\n",
       "    </tr>\n",
       "    <tr>\n",
       "      <th>4</th>\n",
       "      <td>1.0</td>\n",
       "      <td>1.0</td>\n",
       "      <td>2.0</td>\n",
       "      <td>1600.0</td>\n",
       "      <td>792.0</td>\n",
       "    </tr>\n",
       "  </tbody>\n",
       "</table>\n",
       "</div>"
      ],
      "text/plain": [
       "  Dentist Method Alloy    Temp  Response\n",
       "0     1.0    1.0   1.0  1500.0     813.0\n",
       "1     1.0    1.0   1.0  1600.0     792.0\n",
       "2     1.0    1.0   1.0  1700.0     792.0\n",
       "3     1.0    1.0   2.0  1500.0     907.0\n",
       "4     1.0    1.0   2.0  1600.0     792.0"
      ]
     },
     "execution_count": 989,
     "metadata": {},
     "output_type": "execute_result"
    }
   ],
   "source": [
    "dental.head()"
   ]
  },
  {
   "cell_type": "code",
   "execution_count": 990,
   "id": "9a3867ba",
   "metadata": {},
   "outputs": [],
   "source": [
    "from statsmodels.formula.api import ols      # For n-way ANOVA\n",
    "from statsmodels.stats.anova import _get_covariance,anova_lm # For n-way ANOVA\n",
    "%matplotlib inline"
   ]
  },
  {
   "cell_type": "code",
   "execution_count": 991,
   "id": "54129546",
   "metadata": {},
   "outputs": [
    {
     "name": "stdout",
     "output_type": "stream",
     "text": [
      "<class 'pandas.core.frame.DataFrame'>\n",
      "Int64Index: 90 entries, 0 to 89\n",
      "Data columns (total 5 columns):\n",
      " #   Column    Non-Null Count  Dtype   \n",
      "---  ------    --------------  -----   \n",
      " 0   Dentist   90 non-null     category\n",
      " 1   Method    90 non-null     category\n",
      " 2   Alloy     90 non-null     category\n",
      " 3   Temp      90 non-null     float64 \n",
      " 4   Response  90 non-null     float64 \n",
      "dtypes: category(3), float64(2)\n",
      "memory usage: 2.8 KB\n"
     ]
    }
   ],
   "source": [
    "dental.info()"
   ]
  },
  {
   "cell_type": "markdown",
   "id": "991329e4",
   "metadata": {},
   "source": [
    "#### 4.1 How does the hardness of implants vary depending on dentists?"
   ]
  },
  {
   "cell_type": "markdown",
   "id": "4b5cd29b",
   "metadata": {},
   "source": [
    "Let μ1, μ2, μ3, μ4, and μ5 be the means of hardness of implants based on the dentist who do it, respectively."
   ]
  },
  {
   "cell_type": "markdown",
   "id": "fed9a4b6",
   "metadata": {},
   "source": [
    "Null Hypothesis: H0:μ1=μ2=μ3=μ4=μ5, i.e. There is no significant difference in the mean hardness of implants across different dentists.\n",
    "\n",
    "Alternative Hypothesis (Ha): There is a significant difference in the mean hardness of implants across different dentists."
   ]
  },
  {
   "cell_type": "code",
   "execution_count": 992,
   "id": "b3c7c2a0",
   "metadata": {},
   "outputs": [
    {
     "name": "stdout",
     "output_type": "stream",
     "text": [
      "Dentist  Alloy\n",
      "1.0      1.0      749.888889\n",
      "         2.0      816.222222\n",
      "2.0      1.0      761.222222\n",
      "         2.0      812.111111\n",
      "3.0      1.0      717.555556\n",
      "         2.0      779.666667\n",
      "4.0      1.0      681.111111\n",
      "         2.0      746.222222\n",
      "5.0      1.0      627.666667\n",
      "         2.0      726.111111\n",
      "Name: Response, dtype: float64\n"
     ]
    },
    {
     "name": "stderr",
     "output_type": "stream",
     "text": [
      "D:\\Anaconda\\lib\\site-packages\\seaborn\\categorical.py:253: FutureWarning: Index.ravel returning ndarray is deprecated; in a future version this will return a view on self.\n",
      "  grouped_vals = vals.groupby(grouper)\n",
      "D:\\Anaconda\\lib\\site-packages\\seaborn\\categorical.py:253: FutureWarning: Index.ravel returning ndarray is deprecated; in a future version this will return a view on self.\n",
      "  grouped_vals = vals.groupby(grouper)\n"
     ]
    },
    {
     "data": {
      "image/png": "[encoded data removed]",
      "text/plain": [
       "<Figure size 432x432 with 1 Axes>"
      ]
     },
     "metadata": {
      "needs_background": "light"
     },
     "output_type": "display_data"
    }
   ],
   "source": [
    "print(dental.groupby([\"Dentist\",\"Alloy\"])[\"Response\"].mean())\n",
    " \n",
    "fig, ax = plt.subplots(figsize = (6,6))\n",
    "a = sns.boxplot(x= \"Dentist\", y = 'Response' , data = dental, hue = 'Alloy')\n",
    "a.set_title(\"Hardness of implants based on dentists\", fontsize=15)\n",
    "plt.show()"
   ]
  },
  {
   "cell_type": "code",
   "execution_count": 993,
   "id": "93334813",
   "metadata": {},
   "outputs": [
    {
     "data": {
      "text/html": [
       "<div>\n",
       "<style scoped>\n",
       "    .dataframe tbody tr th:only-of-type {\n",
       "        vertical-align: middle;\n",
       "    }\n",
       "\n",
       "    .dataframe tbody tr th {\n",
       "        vertical-align: top;\n",
       "    }\n",
       "\n",
       "    .dataframe thead th {\n",
       "        text-align: right;\n",
       "    }\n",
       "</style>\n",
       "<table border=\"1\" class=\"dataframe\">\n",
       "  <thead>\n",
       "    <tr style=\"text-align: right;\">\n",
       "      <th></th>\n",
       "      <th>Dentist</th>\n",
       "      <th>Response</th>\n",
       "      <th>Method</th>\n",
       "      <th>Temp</th>\n",
       "    </tr>\n",
       "  </thead>\n",
       "  <tbody>\n",
       "    <tr>\n",
       "      <th>0</th>\n",
       "      <td>1.0</td>\n",
       "      <td>813.0</td>\n",
       "      <td>1.0</td>\n",
       "      <td>1500.0</td>\n",
       "    </tr>\n",
       "    <tr>\n",
       "      <th>1</th>\n",
       "      <td>1.0</td>\n",
       "      <td>792.0</td>\n",
       "      <td>1.0</td>\n",
       "      <td>1600.0</td>\n",
       "    </tr>\n",
       "    <tr>\n",
       "      <th>2</th>\n",
       "      <td>1.0</td>\n",
       "      <td>792.0</td>\n",
       "      <td>1.0</td>\n",
       "      <td>1700.0</td>\n",
       "    </tr>\n",
       "    <tr>\n",
       "      <th>6</th>\n",
       "      <td>1.0</td>\n",
       "      <td>782.0</td>\n",
       "      <td>2.0</td>\n",
       "      <td>1500.0</td>\n",
       "    </tr>\n",
       "    <tr>\n",
       "      <th>7</th>\n",
       "      <td>1.0</td>\n",
       "      <td>698.0</td>\n",
       "      <td>2.0</td>\n",
       "      <td>1600.0</td>\n",
       "    </tr>\n",
       "    <tr>\n",
       "      <th>8</th>\n",
       "      <td>1.0</td>\n",
       "      <td>665.0</td>\n",
       "      <td>2.0</td>\n",
       "      <td>1700.0</td>\n",
       "    </tr>\n",
       "    <tr>\n",
       "      <th>12</th>\n",
       "      <td>1.0</td>\n",
       "      <td>752.0</td>\n",
       "      <td>3.0</td>\n",
       "      <td>1500.0</td>\n",
       "    </tr>\n",
       "    <tr>\n",
       "      <th>13</th>\n",
       "      <td>1.0</td>\n",
       "      <td>620.0</td>\n",
       "      <td>3.0</td>\n",
       "      <td>1600.0</td>\n",
       "    </tr>\n",
       "    <tr>\n",
       "      <th>14</th>\n",
       "      <td>1.0</td>\n",
       "      <td>835.0</td>\n",
       "      <td>3.0</td>\n",
       "      <td>1700.0</td>\n",
       "    </tr>\n",
       "    <tr>\n",
       "      <th>18</th>\n",
       "      <td>2.0</td>\n",
       "      <td>715.0</td>\n",
       "      <td>1.0</td>\n",
       "      <td>1500.0</td>\n",
       "    </tr>\n",
       "    <tr>\n",
       "      <th>19</th>\n",
       "      <td>2.0</td>\n",
       "      <td>803.0</td>\n",
       "      <td>1.0</td>\n",
       "      <td>1600.0</td>\n",
       "    </tr>\n",
       "    <tr>\n",
       "      <th>20</th>\n",
       "      <td>2.0</td>\n",
       "      <td>813.0</td>\n",
       "      <td>1.0</td>\n",
       "      <td>1700.0</td>\n",
       "    </tr>\n",
       "    <tr>\n",
       "      <th>24</th>\n",
       "      <td>2.0</td>\n",
       "      <td>772.0</td>\n",
       "      <td>2.0</td>\n",
       "      <td>1500.0</td>\n",
       "    </tr>\n",
       "    <tr>\n",
       "      <th>25</th>\n",
       "      <td>2.0</td>\n",
       "      <td>782.0</td>\n",
       "      <td>2.0</td>\n",
       "      <td>1600.0</td>\n",
       "    </tr>\n",
       "    <tr>\n",
       "      <th>26</th>\n",
       "      <td>2.0</td>\n",
       "      <td>743.0</td>\n",
       "      <td>2.0</td>\n",
       "      <td>1700.0</td>\n",
       "    </tr>\n",
       "    <tr>\n",
       "      <th>30</th>\n",
       "      <td>2.0</td>\n",
       "      <td>835.0</td>\n",
       "      <td>3.0</td>\n",
       "      <td>1500.0</td>\n",
       "    </tr>\n",
       "    <tr>\n",
       "      <th>31</th>\n",
       "      <td>2.0</td>\n",
       "      <td>715.0</td>\n",
       "      <td>3.0</td>\n",
       "      <td>1600.0</td>\n",
       "    </tr>\n",
       "    <tr>\n",
       "      <th>32</th>\n",
       "      <td>2.0</td>\n",
       "      <td>673.0</td>\n",
       "      <td>3.0</td>\n",
       "      <td>1700.0</td>\n",
       "    </tr>\n",
       "    <tr>\n",
       "      <th>36</th>\n",
       "      <td>3.0</td>\n",
       "      <td>743.0</td>\n",
       "      <td>1.0</td>\n",
       "      <td>1500.0</td>\n",
       "    </tr>\n",
       "    <tr>\n",
       "      <th>37</th>\n",
       "      <td>3.0</td>\n",
       "      <td>627.0</td>\n",
       "      <td>1.0</td>\n",
       "      <td>1600.0</td>\n",
       "    </tr>\n",
       "    <tr>\n",
       "      <th>38</th>\n",
       "      <td>3.0</td>\n",
       "      <td>752.0</td>\n",
       "      <td>1.0</td>\n",
       "      <td>1700.0</td>\n",
       "    </tr>\n",
       "    <tr>\n",
       "      <th>42</th>\n",
       "      <td>3.0</td>\n",
       "      <td>813.0</td>\n",
       "      <td>2.0</td>\n",
       "      <td>1500.0</td>\n",
       "    </tr>\n",
       "    <tr>\n",
       "      <th>43</th>\n",
       "      <td>3.0</td>\n",
       "      <td>743.0</td>\n",
       "      <td>2.0</td>\n",
       "      <td>1600.0</td>\n",
       "    </tr>\n",
       "    <tr>\n",
       "      <th>44</th>\n",
       "      <td>3.0</td>\n",
       "      <td>613.0</td>\n",
       "      <td>2.0</td>\n",
       "      <td>1700.0</td>\n",
       "    </tr>\n",
       "    <tr>\n",
       "      <th>48</th>\n",
       "      <td>3.0</td>\n",
       "      <td>743.0</td>\n",
       "      <td>3.0</td>\n",
       "      <td>1500.0</td>\n",
       "    </tr>\n",
       "    <tr>\n",
       "      <th>49</th>\n",
       "      <td>3.0</td>\n",
       "      <td>681.0</td>\n",
       "      <td>3.0</td>\n",
       "      <td>1600.0</td>\n",
       "    </tr>\n",
       "    <tr>\n",
       "      <th>50</th>\n",
       "      <td>3.0</td>\n",
       "      <td>743.0</td>\n",
       "      <td>3.0</td>\n",
       "      <td>1700.0</td>\n",
       "    </tr>\n",
       "    <tr>\n",
       "      <th>54</th>\n",
       "      <td>4.0</td>\n",
       "      <td>792.0</td>\n",
       "      <td>1.0</td>\n",
       "      <td>1500.0</td>\n",
       "    </tr>\n",
       "    <tr>\n",
       "      <th>55</th>\n",
       "      <td>4.0</td>\n",
       "      <td>743.0</td>\n",
       "      <td>1.0</td>\n",
       "      <td>1600.0</td>\n",
       "    </tr>\n",
       "    <tr>\n",
       "      <th>56</th>\n",
       "      <td>4.0</td>\n",
       "      <td>762.0</td>\n",
       "      <td>1.0</td>\n",
       "      <td>1700.0</td>\n",
       "    </tr>\n",
       "    <tr>\n",
       "      <th>60</th>\n",
       "      <td>4.0</td>\n",
       "      <td>690.0</td>\n",
       "      <td>2.0</td>\n",
       "      <td>1500.0</td>\n",
       "    </tr>\n",
       "    <tr>\n",
       "      <th>61</th>\n",
       "      <td>4.0</td>\n",
       "      <td>882.0</td>\n",
       "      <td>2.0</td>\n",
       "      <td>1600.0</td>\n",
       "    </tr>\n",
       "    <tr>\n",
       "      <th>62</th>\n",
       "      <td>4.0</td>\n",
       "      <td>772.0</td>\n",
       "      <td>2.0</td>\n",
       "      <td>1700.0</td>\n",
       "    </tr>\n",
       "    <tr>\n",
       "      <th>66</th>\n",
       "      <td>4.0</td>\n",
       "      <td>493.0</td>\n",
       "      <td>3.0</td>\n",
       "      <td>1500.0</td>\n",
       "    </tr>\n",
       "    <tr>\n",
       "      <th>67</th>\n",
       "      <td>4.0</td>\n",
       "      <td>707.0</td>\n",
       "      <td>3.0</td>\n",
       "      <td>1600.0</td>\n",
       "    </tr>\n",
       "    <tr>\n",
       "      <th>68</th>\n",
       "      <td>4.0</td>\n",
       "      <td>289.0</td>\n",
       "      <td>3.0</td>\n",
       "      <td>1700.0</td>\n",
       "    </tr>\n",
       "    <tr>\n",
       "      <th>72</th>\n",
       "      <td>5.0</td>\n",
       "      <td>707.0</td>\n",
       "      <td>1.0</td>\n",
       "      <td>1500.0</td>\n",
       "    </tr>\n",
       "    <tr>\n",
       "      <th>73</th>\n",
       "      <td>5.0</td>\n",
       "      <td>698.0</td>\n",
       "      <td>1.0</td>\n",
       "      <td>1600.0</td>\n",
       "    </tr>\n",
       "    <tr>\n",
       "      <th>74</th>\n",
       "      <td>5.0</td>\n",
       "      <td>715.0</td>\n",
       "      <td>1.0</td>\n",
       "      <td>1700.0</td>\n",
       "    </tr>\n",
       "    <tr>\n",
       "      <th>78</th>\n",
       "      <td>5.0</td>\n",
       "      <td>803.0</td>\n",
       "      <td>2.0</td>\n",
       "      <td>1500.0</td>\n",
       "    </tr>\n",
       "    <tr>\n",
       "      <th>79</th>\n",
       "      <td>5.0</td>\n",
       "      <td>665.0</td>\n",
       "      <td>2.0</td>\n",
       "      <td>1600.0</td>\n",
       "    </tr>\n",
       "    <tr>\n",
       "      <th>80</th>\n",
       "      <td>5.0</td>\n",
       "      <td>752.0</td>\n",
       "      <td>2.0</td>\n",
       "      <td>1700.0</td>\n",
       "    </tr>\n",
       "    <tr>\n",
       "      <th>84</th>\n",
       "      <td>5.0</td>\n",
       "      <td>421.0</td>\n",
       "      <td>3.0</td>\n",
       "      <td>1500.0</td>\n",
       "    </tr>\n",
       "    <tr>\n",
       "      <th>85</th>\n",
       "      <td>5.0</td>\n",
       "      <td>483.0</td>\n",
       "      <td>3.0</td>\n",
       "      <td>1600.0</td>\n",
       "    </tr>\n",
       "    <tr>\n",
       "      <th>86</th>\n",
       "      <td>5.0</td>\n",
       "      <td>405.0</td>\n",
       "      <td>3.0</td>\n",
       "      <td>1700.0</td>\n",
       "    </tr>\n",
       "  </tbody>\n",
       "</table>\n",
       "</div>"
      ],
      "text/plain": [
       "   Dentist  Response Method    Temp\n",
       "0      1.0     813.0    1.0  1500.0\n",
       "1      1.0     792.0    1.0  1600.0\n",
       "2      1.0     792.0    1.0  1700.0\n",
       "6      1.0     782.0    2.0  1500.0\n",
       "7      1.0     698.0    2.0  1600.0\n",
       "8      1.0     665.0    2.0  1700.0\n",
       "12     1.0     752.0    3.0  1500.0\n",
       "13     1.0     620.0    3.0  1600.0\n",
       "14     1.0     835.0    3.0  1700.0\n",
       "18     2.0     715.0    1.0  1500.0\n",
       "19     2.0     803.0    1.0  1600.0\n",
       "20     2.0     813.0    1.0  1700.0\n",
       "24     2.0     772.0    2.0  1500.0\n",
       "25     2.0     782.0    2.0  1600.0\n",
       "26     2.0     743.0    2.0  1700.0\n",
       "30     2.0     835.0    3.0  1500.0\n",
       "31     2.0     715.0    3.0  1600.0\n",
       "32     2.0     673.0    3.0  1700.0\n",
       "36     3.0     743.0    1.0  1500.0\n",
       "37     3.0     627.0    1.0  1600.0\n",
       "38     3.0     752.0    1.0  1700.0\n",
       "42     3.0     813.0    2.0  1500.0\n",
       "43     3.0     743.0    2.0  1600.0\n",
       "44     3.0     613.0    2.0  1700.0\n",
       "48     3.0     743.0    3.0  1500.0\n",
       "49     3.0     681.0    3.0  1600.0\n",
       "50     3.0     743.0    3.0  1700.0\n",
       "54     4.0     792.0    1.0  1500.0\n",
       "55     4.0     743.0    1.0  1600.0\n",
       "56     4.0     762.0    1.0  1700.0\n",
       "60     4.0     690.0    2.0  1500.0\n",
       "61     4.0     882.0    2.0  1600.0\n",
       "62     4.0     772.0    2.0  1700.0\n",
       "66     4.0     493.0    3.0  1500.0\n",
       "67     4.0     707.0    3.0  1600.0\n",
       "68     4.0     289.0    3.0  1700.0\n",
       "72     5.0     707.0    1.0  1500.0\n",
       "73     5.0     698.0    1.0  1600.0\n",
       "74     5.0     715.0    1.0  1700.0\n",
       "78     5.0     803.0    2.0  1500.0\n",
       "79     5.0     665.0    2.0  1600.0\n",
       "80     5.0     752.0    2.0  1700.0\n",
       "84     5.0     421.0    3.0  1500.0\n",
       "85     5.0     483.0    3.0  1600.0\n",
       "86     5.0     405.0    3.0  1700.0"
      ]
     },
     "execution_count": 993,
     "metadata": {},
     "output_type": "execute_result"
    }
   ],
   "source": [
    "alloy1 = dental[dental['Alloy']==1.0][['Dentist','Response','Method','Temp']].copy()\n",
    "alloy1"
   ]
  },
  {
   "cell_type": "markdown",
   "id": "5d2597e7",
   "metadata": {},
   "source": [
    "Shapiro-Wilk’s test for alloy1"
   ]
  },
  {
   "cell_type": "markdown",
   "id": "6f0433bd",
   "metadata": {},
   "source": [
    "- Null hypothesis H0: Hardness of implants follows a normal distribution.\n",
    "- Alternate hypothesis Ha: Hardness of implants does not follows a normal distribution."
   ]
  },
  {
   "cell_type": "code",
   "execution_count": 994,
   "id": "3b9497cb",
   "metadata": {},
   "outputs": [
    {
     "name": "stdout",
     "output_type": "stream",
     "text": [
      "The p-value is 1.1945070582441986e-05\n"
     ]
    }
   ],
   "source": [
    "# find the p-value\n",
    "w, p_value = stats.shapiro(alloy1['Response']) \n",
    "print('The p-value is', p_value)"
   ]
  },
  {
   "cell_type": "markdown",
   "id": "36059640",
   "metadata": {},
   "source": [
    "Since p-value is very small, we reject the null hypothesis that the hardness of implants follows a normal distribution."
   ]
  },
  {
   "cell_type": "markdown",
   "id": "f84fba0c",
   "metadata": {},
   "source": [
    "Levene's test for Alloy 1"
   ]
  },
  {
   "cell_type": "markdown",
   "id": "07fb00f6",
   "metadata": {},
   "source": [
    "- H0: All the population variances are equal.\n",
    "- Ha: At least one variance is different from the rest."
   ]
  },
  {
   "cell_type": "code",
   "execution_count": 995,
   "id": "72072d68",
   "metadata": {},
   "outputs": [],
   "source": [
    "# import the required function\n",
    "from scipy.stats import f_oneway\n",
    "from scipy.stats import levene"
   ]
  },
  {
   "cell_type": "code",
   "execution_count": 996,
   "id": "d3e429f1",
   "metadata": {},
   "outputs": [
    {
     "name": "stdout",
     "output_type": "stream",
     "text": [
      "The p-value is  0.2565537418543795\n"
     ]
    }
   ],
   "source": [
    "a = alloy1[alloy1['Dentist']==1.0]['Response']\n",
    "b = alloy1[alloy1['Dentist']==2.0]['Response']\n",
    "c = alloy1[alloy1['Dentist']==3.0]['Response']\n",
    "d = alloy1[alloy1['Dentist']==4.0]['Response']\n",
    "e = alloy1[alloy1['Dentist']==5.0]['Response']\n",
    "\n",
    "# find the p-value\n",
    "test_stat, p_value = levene(a, b, c, d, e)\n",
    "print('The p-value is ', p_value)"
   ]
  },
  {
   "cell_type": "markdown",
   "id": "52129d56",
   "metadata": {},
   "source": [
    "Since the p-value is large, we fail to reject the null hypothesis of homogeneity of variances."
   ]
  },
  {
   "cell_type": "markdown",
   "id": "eac7a5eb",
   "metadata": {},
   "source": [
    "Let's test whether the assumptions are satisfied or not\n",
    "- The populations are normally distributed - No, the normality assumption is not verified using the Shapiro-Wilk’s test.\n",
    "- Samples are independent simple random samples - Yes, we are informed that the collected sample is a simple random sample.\n",
    "- Population variances are equal - Yes, the homogeneity of variance assumption is verified using the Levene's test."
   ]
  },
  {
   "cell_type": "code",
   "execution_count": 997,
   "id": "86ea1c74",
   "metadata": {},
   "outputs": [
    {
     "name": "stdout",
     "output_type": "stream",
     "text": [
      "The p-value is 0.11656712140267628\n"
     ]
    }
   ],
   "source": [
    "#Finding the p value using one-way ANOVA\n",
    "\n",
    "a1 = alloy1.loc[alloy1['Dentist'] == 1.0, 'Response']\n",
    "a2 = alloy1.loc[alloy1['Dentist'] == 2.0, 'Response']\n",
    "a3 = alloy1.loc[alloy1['Dentist'] == 3.0, 'Response']\n",
    "a4 = alloy1.loc[alloy1['Dentist'] == 4.0, 'Response']\n",
    "a5 = alloy1.loc[alloy1['Dentist'] == 5.0, 'Response']\n",
    "\n",
    "test_stat, p_value = f_oneway(a1, a2, a3, a4, a5)\n",
    "print('The p-value is ' + str(p_value))"
   ]
  },
  {
   "cell_type": "markdown",
   "id": "f0b2fcde",
   "metadata": {},
   "source": [
    "The p value is greater than 0.05, therefore, we fail to reject the null hypothesis that there is no significant difference in the mean hardness of implants across different dentists for Alloy 1."
   ]
  },
  {
   "cell_type": "markdown",
   "id": "dbfb67f7",
   "metadata": {},
   "source": [
    "Let's check if the means of hardness of implants based on the dentist who do it are equal for Alloy 2."
   ]
  },
  {
   "cell_type": "code",
   "execution_count": 998,
   "id": "ce06f6ed",
   "metadata": {},
   "outputs": [
    {
     "data": {
      "text/html": [
       "<div>\n",
       "<style scoped>\n",
       "    .dataframe tbody tr th:only-of-type {\n",
       "        vertical-align: middle;\n",
       "    }\n",
       "\n",
       "    .dataframe tbody tr th {\n",
       "        vertical-align: top;\n",
       "    }\n",
       "\n",
       "    .dataframe thead th {\n",
       "        text-align: right;\n",
       "    }\n",
       "</style>\n",
       "<table border=\"1\" class=\"dataframe\">\n",
       "  <thead>\n",
       "    <tr style=\"text-align: right;\">\n",
       "      <th></th>\n",
       "      <th>Dentist</th>\n",
       "      <th>Response</th>\n",
       "      <th>Method</th>\n",
       "      <th>Temp</th>\n",
       "    </tr>\n",
       "  </thead>\n",
       "  <tbody>\n",
       "    <tr>\n",
       "      <th>3</th>\n",
       "      <td>1.0</td>\n",
       "      <td>907.0</td>\n",
       "      <td>1.0</td>\n",
       "      <td>1500.0</td>\n",
       "    </tr>\n",
       "    <tr>\n",
       "      <th>4</th>\n",
       "      <td>1.0</td>\n",
       "      <td>792.0</td>\n",
       "      <td>1.0</td>\n",
       "      <td>1600.0</td>\n",
       "    </tr>\n",
       "    <tr>\n",
       "      <th>5</th>\n",
       "      <td>1.0</td>\n",
       "      <td>835.0</td>\n",
       "      <td>1.0</td>\n",
       "      <td>1700.0</td>\n",
       "    </tr>\n",
       "    <tr>\n",
       "      <th>9</th>\n",
       "      <td>1.0</td>\n",
       "      <td>1115.0</td>\n",
       "      <td>2.0</td>\n",
       "      <td>1500.0</td>\n",
       "    </tr>\n",
       "    <tr>\n",
       "      <th>10</th>\n",
       "      <td>1.0</td>\n",
       "      <td>835.0</td>\n",
       "      <td>2.0</td>\n",
       "      <td>1600.0</td>\n",
       "    </tr>\n",
       "    <tr>\n",
       "      <th>11</th>\n",
       "      <td>1.0</td>\n",
       "      <td>870.0</td>\n",
       "      <td>2.0</td>\n",
       "      <td>1700.0</td>\n",
       "    </tr>\n",
       "    <tr>\n",
       "      <th>15</th>\n",
       "      <td>1.0</td>\n",
       "      <td>847.0</td>\n",
       "      <td>3.0</td>\n",
       "      <td>1500.0</td>\n",
       "    </tr>\n",
       "    <tr>\n",
       "      <th>16</th>\n",
       "      <td>1.0</td>\n",
       "      <td>560.0</td>\n",
       "      <td>3.0</td>\n",
       "      <td>1600.0</td>\n",
       "    </tr>\n",
       "    <tr>\n",
       "      <th>17</th>\n",
       "      <td>1.0</td>\n",
       "      <td>585.0</td>\n",
       "      <td>3.0</td>\n",
       "      <td>1700.0</td>\n",
       "    </tr>\n",
       "    <tr>\n",
       "      <th>21</th>\n",
       "      <td>2.0</td>\n",
       "      <td>858.0</td>\n",
       "      <td>1.0</td>\n",
       "      <td>1500.0</td>\n",
       "    </tr>\n",
       "    <tr>\n",
       "      <th>22</th>\n",
       "      <td>2.0</td>\n",
       "      <td>907.0</td>\n",
       "      <td>1.0</td>\n",
       "      <td>1600.0</td>\n",
       "    </tr>\n",
       "    <tr>\n",
       "      <th>23</th>\n",
       "      <td>2.0</td>\n",
       "      <td>882.0</td>\n",
       "      <td>1.0</td>\n",
       "      <td>1700.0</td>\n",
       "    </tr>\n",
       "    <tr>\n",
       "      <th>27</th>\n",
       "      <td>2.0</td>\n",
       "      <td>933.0</td>\n",
       "      <td>2.0</td>\n",
       "      <td>1500.0</td>\n",
       "    </tr>\n",
       "    <tr>\n",
       "      <th>28</th>\n",
       "      <td>2.0</td>\n",
       "      <td>792.0</td>\n",
       "      <td>2.0</td>\n",
       "      <td>1600.0</td>\n",
       "    </tr>\n",
       "    <tr>\n",
       "      <th>29</th>\n",
       "      <td>2.0</td>\n",
       "      <td>824.0</td>\n",
       "      <td>2.0</td>\n",
       "      <td>1700.0</td>\n",
       "    </tr>\n",
       "    <tr>\n",
       "      <th>33</th>\n",
       "      <td>2.0</td>\n",
       "      <td>698.0</td>\n",
       "      <td>3.0</td>\n",
       "      <td>1500.0</td>\n",
       "    </tr>\n",
       "    <tr>\n",
       "      <th>34</th>\n",
       "      <td>2.0</td>\n",
       "      <td>734.0</td>\n",
       "      <td>3.0</td>\n",
       "      <td>1600.0</td>\n",
       "    </tr>\n",
       "    <tr>\n",
       "      <th>35</th>\n",
       "      <td>2.0</td>\n",
       "      <td>681.0</td>\n",
       "      <td>3.0</td>\n",
       "      <td>1700.0</td>\n",
       "    </tr>\n",
       "    <tr>\n",
       "      <th>39</th>\n",
       "      <td>3.0</td>\n",
       "      <td>858.0</td>\n",
       "      <td>1.0</td>\n",
       "      <td>1500.0</td>\n",
       "    </tr>\n",
       "    <tr>\n",
       "      <th>40</th>\n",
       "      <td>3.0</td>\n",
       "      <td>762.0</td>\n",
       "      <td>1.0</td>\n",
       "      <td>1600.0</td>\n",
       "    </tr>\n",
       "    <tr>\n",
       "      <th>41</th>\n",
       "      <td>3.0</td>\n",
       "      <td>724.0</td>\n",
       "      <td>1.0</td>\n",
       "      <td>1700.0</td>\n",
       "    </tr>\n",
       "    <tr>\n",
       "      <th>45</th>\n",
       "      <td>3.0</td>\n",
       "      <td>824.0</td>\n",
       "      <td>2.0</td>\n",
       "      <td>1500.0</td>\n",
       "    </tr>\n",
       "    <tr>\n",
       "      <th>46</th>\n",
       "      <td>3.0</td>\n",
       "      <td>847.0</td>\n",
       "      <td>2.0</td>\n",
       "      <td>1600.0</td>\n",
       "    </tr>\n",
       "    <tr>\n",
       "      <th>47</th>\n",
       "      <td>3.0</td>\n",
       "      <td>782.0</td>\n",
       "      <td>2.0</td>\n",
       "      <td>1700.0</td>\n",
       "    </tr>\n",
       "    <tr>\n",
       "      <th>51</th>\n",
       "      <td>3.0</td>\n",
       "      <td>715.0</td>\n",
       "      <td>3.0</td>\n",
       "      <td>1500.0</td>\n",
       "    </tr>\n",
       "    <tr>\n",
       "      <th>52</th>\n",
       "      <td>3.0</td>\n",
       "      <td>824.0</td>\n",
       "      <td>3.0</td>\n",
       "      <td>1600.0</td>\n",
       "    </tr>\n",
       "    <tr>\n",
       "      <th>53</th>\n",
       "      <td>3.0</td>\n",
       "      <td>681.0</td>\n",
       "      <td>3.0</td>\n",
       "      <td>1700.0</td>\n",
       "    </tr>\n",
       "    <tr>\n",
       "      <th>57</th>\n",
       "      <td>4.0</td>\n",
       "      <td>894.0</td>\n",
       "      <td>1.0</td>\n",
       "      <td>1500.0</td>\n",
       "    </tr>\n",
       "    <tr>\n",
       "      <th>58</th>\n",
       "      <td>4.0</td>\n",
       "      <td>792.0</td>\n",
       "      <td>1.0</td>\n",
       "      <td>1600.0</td>\n",
       "    </tr>\n",
       "    <tr>\n",
       "      <th>59</th>\n",
       "      <td>4.0</td>\n",
       "      <td>649.0</td>\n",
       "      <td>1.0</td>\n",
       "      <td>1700.0</td>\n",
       "    </tr>\n",
       "    <tr>\n",
       "      <th>63</th>\n",
       "      <td>4.0</td>\n",
       "      <td>813.0</td>\n",
       "      <td>2.0</td>\n",
       "      <td>1500.0</td>\n",
       "    </tr>\n",
       "    <tr>\n",
       "      <th>64</th>\n",
       "      <td>4.0</td>\n",
       "      <td>870.0</td>\n",
       "      <td>2.0</td>\n",
       "      <td>1600.0</td>\n",
       "    </tr>\n",
       "    <tr>\n",
       "      <th>65</th>\n",
       "      <td>4.0</td>\n",
       "      <td>858.0</td>\n",
       "      <td>2.0</td>\n",
       "      <td>1700.0</td>\n",
       "    </tr>\n",
       "    <tr>\n",
       "      <th>69</th>\n",
       "      <td>4.0</td>\n",
       "      <td>715.0</td>\n",
       "      <td>3.0</td>\n",
       "      <td>1500.0</td>\n",
       "    </tr>\n",
       "    <tr>\n",
       "      <th>70</th>\n",
       "      <td>4.0</td>\n",
       "      <td>813.0</td>\n",
       "      <td>3.0</td>\n",
       "      <td>1600.0</td>\n",
       "    </tr>\n",
       "    <tr>\n",
       "      <th>71</th>\n",
       "      <td>4.0</td>\n",
       "      <td>312.0</td>\n",
       "      <td>3.0</td>\n",
       "      <td>1700.0</td>\n",
       "    </tr>\n",
       "    <tr>\n",
       "      <th>75</th>\n",
       "      <td>5.0</td>\n",
       "      <td>772.0</td>\n",
       "      <td>1.0</td>\n",
       "      <td>1500.0</td>\n",
       "    </tr>\n",
       "    <tr>\n",
       "      <th>76</th>\n",
       "      <td>5.0</td>\n",
       "      <td>1048.0</td>\n",
       "      <td>1.0</td>\n",
       "      <td>1600.0</td>\n",
       "    </tr>\n",
       "    <tr>\n",
       "      <th>77</th>\n",
       "      <td>5.0</td>\n",
       "      <td>870.0</td>\n",
       "      <td>1.0</td>\n",
       "      <td>1700.0</td>\n",
       "    </tr>\n",
       "    <tr>\n",
       "      <th>81</th>\n",
       "      <td>5.0</td>\n",
       "      <td>824.0</td>\n",
       "      <td>2.0</td>\n",
       "      <td>1500.0</td>\n",
       "    </tr>\n",
       "    <tr>\n",
       "      <th>82</th>\n",
       "      <td>5.0</td>\n",
       "      <td>933.0</td>\n",
       "      <td>2.0</td>\n",
       "      <td>1600.0</td>\n",
       "    </tr>\n",
       "    <tr>\n",
       "      <th>83</th>\n",
       "      <td>5.0</td>\n",
       "      <td>835.0</td>\n",
       "      <td>2.0</td>\n",
       "      <td>1700.0</td>\n",
       "    </tr>\n",
       "    <tr>\n",
       "      <th>87</th>\n",
       "      <td>5.0</td>\n",
       "      <td>536.0</td>\n",
       "      <td>3.0</td>\n",
       "      <td>1500.0</td>\n",
       "    </tr>\n",
       "    <tr>\n",
       "      <th>88</th>\n",
       "      <td>5.0</td>\n",
       "      <td>405.0</td>\n",
       "      <td>3.0</td>\n",
       "      <td>1600.0</td>\n",
       "    </tr>\n",
       "    <tr>\n",
       "      <th>89</th>\n",
       "      <td>5.0</td>\n",
       "      <td>312.0</td>\n",
       "      <td>3.0</td>\n",
       "      <td>1700.0</td>\n",
       "    </tr>\n",
       "  </tbody>\n",
       "</table>\n",
       "</div>"
      ],
      "text/plain": [
       "   Dentist  Response Method    Temp\n",
       "3      1.0     907.0    1.0  1500.0\n",
       "4      1.0     792.0    1.0  1600.0\n",
       "5      1.0     835.0    1.0  1700.0\n",
       "9      1.0    1115.0    2.0  1500.0\n",
       "10     1.0     835.0    2.0  1600.0\n",
       "11     1.0     870.0    2.0  1700.0\n",
       "15     1.0     847.0    3.0  1500.0\n",
       "16     1.0     560.0    3.0  1600.0\n",
       "17     1.0     585.0    3.0  1700.0\n",
       "21     2.0     858.0    1.0  1500.0\n",
       "22     2.0     907.0    1.0  1600.0\n",
       "23     2.0     882.0    1.0  1700.0\n",
       "27     2.0     933.0    2.0  1500.0\n",
       "28     2.0     792.0    2.0  1600.0\n",
       "29     2.0     824.0    2.0  1700.0\n",
       "33     2.0     698.0    3.0  1500.0\n",
       "34     2.0     734.0    3.0  1600.0\n",
       "35     2.0     681.0    3.0  1700.0\n",
       "39     3.0     858.0    1.0  1500.0\n",
       "40     3.0     762.0    1.0  1600.0\n",
       "41     3.0     724.0    1.0  1700.0\n",
       "45     3.0     824.0    2.0  1500.0\n",
       "46     3.0     847.0    2.0  1600.0\n",
       "47     3.0     782.0    2.0  1700.0\n",
       "51     3.0     715.0    3.0  1500.0\n",
       "52     3.0     824.0    3.0  1600.0\n",
       "53     3.0     681.0    3.0  1700.0\n",
       "57     4.0     894.0    1.0  1500.0\n",
       "58     4.0     792.0    1.0  1600.0\n",
       "59     4.0     649.0    1.0  1700.0\n",
       "63     4.0     813.0    2.0  1500.0\n",
       "64     4.0     870.0    2.0  1600.0\n",
       "65     4.0     858.0    2.0  1700.0\n",
       "69     4.0     715.0    3.0  1500.0\n",
       "70     4.0     813.0    3.0  1600.0\n",
       "71     4.0     312.0    3.0  1700.0\n",
       "75     5.0     772.0    1.0  1500.0\n",
       "76     5.0    1048.0    1.0  1600.0\n",
       "77     5.0     870.0    1.0  1700.0\n",
       "81     5.0     824.0    2.0  1500.0\n",
       "82     5.0     933.0    2.0  1600.0\n",
       "83     5.0     835.0    2.0  1700.0\n",
       "87     5.0     536.0    3.0  1500.0\n",
       "88     5.0     405.0    3.0  1600.0\n",
       "89     5.0     312.0    3.0  1700.0"
      ]
     },
     "execution_count": 998,
     "metadata": {},
     "output_type": "execute_result"
    }
   ],
   "source": [
    "alloy2 = dental[dental['Alloy']==2.0][['Dentist','Response','Method','Temp']].copy()\n",
    "alloy2"
   ]
  },
  {
   "cell_type": "markdown",
   "id": "03f384a0",
   "metadata": {},
   "source": [
    "Shapiro-Wilk’s test for Alloy 2\n",
    "\n",
    "- Null hypothesis H0: Hardness of implants follows a normal distribution.\n",
    "- Alternate hypothesis Ha: Hardness of implants does not follows a normal distribution."
   ]
  },
  {
   "cell_type": "code",
   "execution_count": 999,
   "id": "a5164526",
   "metadata": {},
   "outputs": [
    {
     "name": "stdout",
     "output_type": "stream",
     "text": [
      "The p-value is 0.00040292771882377565\n"
     ]
    }
   ],
   "source": [
    "# find the p-value\n",
    "w, p_value = stats.shapiro(alloy2['Response']) \n",
    "print('The p-value is', p_value)"
   ]
  },
  {
   "cell_type": "markdown",
   "id": "986a80aa",
   "metadata": {},
   "source": [
    "Since p-value is very small, we reject the null hypothesis that the hardness of implants follows a normal distribution."
   ]
  },
  {
   "cell_type": "markdown",
   "id": "b47309f4",
   "metadata": {},
   "source": [
    "Levene's test for Alloy 2\n",
    "\n",
    "- H0: All the population variances are equal.\n",
    "- Ha: At least one variance is different from the rest."
   ]
  },
  {
   "cell_type": "code",
   "execution_count": 1000,
   "id": "a04d457f",
   "metadata": {},
   "outputs": [
    {
     "name": "stdout",
     "output_type": "stream",
     "text": [
      "The p-value is  0.23686777576324952\n"
     ]
    }
   ],
   "source": [
    "a2 = alloy2[alloy2['Dentist']==1.0]['Response']\n",
    "b2 = alloy2[alloy2['Dentist']==2.0]['Response']\n",
    "c2 = alloy2[alloy2['Dentist']==3.0]['Response']\n",
    "d2 = alloy2[alloy2['Dentist']==4.0]['Response']\n",
    "e2 = alloy2[alloy2['Dentist']==5.0]['Response']\n",
    "\n",
    "# find the p-value\n",
    "test_stat, p_value = levene(a2, b2, c2, d2, e2)\n",
    "print('The p-value is ', p_value)"
   ]
  },
  {
   "cell_type": "markdown",
   "id": "60f33bb1",
   "metadata": {},
   "source": [
    "Since the p-value is large, we fail to reject the null hypothesis of homogeneity of variances."
   ]
  },
  {
   "cell_type": "code",
   "execution_count": 1001,
   "id": "40e89f39",
   "metadata": {},
   "outputs": [
    {
     "name": "stdout",
     "output_type": "stream",
     "text": [
      "The p-value is 0.7180309510793431\n"
     ]
    }
   ],
   "source": [
    "#Finding the p value using one-way ANOVA\n",
    "\n",
    "a3 = alloy2.loc[alloy2['Dentist'] == 1.0, 'Response']\n",
    "a4 = alloy2.loc[alloy2['Dentist'] == 2.0, 'Response']\n",
    "a5 = alloy2.loc[alloy2['Dentist'] == 3.0, 'Response']\n",
    "a6 = alloy2.loc[alloy2['Dentist'] == 4.0, 'Response']\n",
    "a7 = alloy2.loc[alloy2['Dentist'] == 5.0, 'Response']\n",
    "\n",
    "test_stat, p_value = f_oneway(a3, a4, a5, a6, a7)\n",
    "print('The p-value is ' + str(p_value))"
   ]
  },
  {
   "cell_type": "markdown",
   "id": "a8c9ad9d",
   "metadata": {},
   "source": [
    "The p value is greater than 0.05, therefore, we fail to reject the null hypothesis that there is no significant difference in the mean hardness of implants across different dentists for Alloy 2."
   ]
  },
  {
   "cell_type": "markdown",
   "id": "901f1d4b",
   "metadata": {},
   "source": [
    "#### 4.2 How does the hardness of implants vary depending on methods?"
   ]
  },
  {
   "cell_type": "markdown",
   "id": "982dd091",
   "metadata": {},
   "source": [
    "Let μ1, μ2, μ3 be the means of hardness of implants based on the methods used, respectively.\n",
    "\n",
    "Null Hypothesis: H0:μ1=μ2=μ3\n",
    "\n",
    "Alternate hypothesis: Ha: atleast one of the means of hardness of implants is different from the rest. "
   ]
  },
  {
   "cell_type": "code",
   "execution_count": 1002,
   "id": "50c8dd92",
   "metadata": {},
   "outputs": [
    {
     "name": "stdout",
     "output_type": "stream",
     "text": [
      "Method  Alloy\n",
      "1.0     1.0      751.133333\n",
      "        2.0      836.666667\n",
      "2.0     1.0      745.000000\n",
      "        2.0      863.666667\n",
      "3.0     1.0      626.333333\n",
      "        2.0      627.866667\n",
      "Name: Response, dtype: float64\n"
     ]
    },
    {
     "name": "stderr",
     "output_type": "stream",
     "text": [
      "D:\\Anaconda\\lib\\site-packages\\seaborn\\categorical.py:253: FutureWarning: Index.ravel returning ndarray is deprecated; in a future version this will return a view on self.\n",
      "  grouped_vals = vals.groupby(grouper)\n",
      "D:\\Anaconda\\lib\\site-packages\\seaborn\\categorical.py:253: FutureWarning: Index.ravel returning ndarray is deprecated; in a future version this will return a view on self.\n",
      "  grouped_vals = vals.groupby(grouper)\n"
     ]
    },
    {
     "data": {
      "image/png": "[encoded data removed]",
      "text/plain": [
       "<Figure size 432x432 with 1 Axes>"
      ]
     },
     "metadata": {
      "needs_background": "light"
     },
     "output_type": "display_data"
    }
   ],
   "source": [
    "print(dental.groupby([\"Method\",\"Alloy\"])[\"Response\"].mean())\n",
    " \n",
    "fig, ax = plt.subplots(figsize = (6,6))\n",
    "a = sns.boxplot(x= \"Method\", y = 'Response' , data = dental, hue = 'Alloy')\n",
    "a.set_title(\"Hardness of implants based on method\", fontsize=15)\n",
    "plt.show()"
   ]
  },
  {
   "cell_type": "markdown",
   "id": "46b68b4c",
   "metadata": {},
   "source": [
    "Levene's test for Alloy 1\n",
    "\n",
    "- H0: All the population variances are equal.\n",
    "- Ha: At least one variance is different from the rest."
   ]
  },
  {
   "cell_type": "code",
   "execution_count": 1003,
   "id": "ff35f0ca",
   "metadata": {},
   "outputs": [
    {
     "name": "stdout",
     "output_type": "stream",
     "text": [
      "The p-value is  0.0034160381460233975\n"
     ]
    }
   ],
   "source": [
    "a = alloy1[alloy1['Method']==1.0]['Response']\n",
    "b = alloy1[alloy1['Method']==2.0]['Response']\n",
    "c = alloy1[alloy1['Method']==3.0]['Response']\n",
    "\n",
    "\n",
    "# find the p-value\n",
    "test_stat, p_value = levene(a, b, c)\n",
    "print('The p-value is ', p_value)"
   ]
  },
  {
   "cell_type": "markdown",
   "id": "2ef44661",
   "metadata": {},
   "source": [
    "Since the p-value is less than 0.05, we reject the null hypothesis of homogeneity of variances."
   ]
  },
  {
   "cell_type": "code",
   "execution_count": 1004,
   "id": "b07f2e1b",
   "metadata": {},
   "outputs": [
    {
     "name": "stdout",
     "output_type": "stream",
     "text": [
      "The p-value is 0.004163412167505543\n"
     ]
    }
   ],
   "source": [
    "#Finding the p value using one-way ANOVA\n",
    "\n",
    "a1 = alloy1.loc[alloy1['Method'] == 1.0, 'Response']\n",
    "a2 = alloy1.loc[alloy1['Method'] == 2.0, 'Response']\n",
    "a3 = alloy1.loc[alloy1['Method'] == 3.0, 'Response']\n",
    "\n",
    "\n",
    "test_stat, p_value = f_oneway(a1, a2, a3)\n",
    "print('The p-value is ' + str(p_value))"
   ]
  },
  {
   "cell_type": "markdown",
   "id": "4dc056c1",
   "metadata": {},
   "source": [
    "The p value is less than 0.05, therefore, we reject the null hypothesis that the means of hardness of implants based on the methods are equal.\n",
    "\n",
    "Hence, we do not have enough statistical significance to conclude that means of hardness of implants based on methods for Alloy 1 are equal.\n",
    "\n",
    "We don't know which mean is different from the rest or whether all pairs of means are different. Multiple comparison tests (Tukey HSD) are used to test the differences between all pairs of means."
   ]
  },
  {
   "cell_type": "markdown",
   "id": "362a20b3",
   "metadata": {},
   "source": [
    "In order to identify for which method mean hardness of implants is different from other groups\n",
    "- H0:μ1=μ2 and μ1=μ3 and μ2=μ3\n",
    "- Ha:μ1≠μ2 or μ1≠μ3 or μ2≠μ3"
   ]
  },
  {
   "cell_type": "code",
   "execution_count": 1005,
   "id": "23d0c9a7",
   "metadata": {},
   "outputs": [
    {
     "name": "stdout",
     "output_type": "stream",
     "text": [
      "  Multiple Comparison of Means - Tukey HSD, FWER=0.05   \n",
      "========================================================\n",
      "group1 group2  meandiff p-adj    lower    upper   reject\n",
      "--------------------------------------------------------\n",
      "   1.0    2.0   -6.1333  0.987  -102.714  90.4473  False\n",
      "   1.0    3.0    -124.8 0.0085 -221.3807 -28.2193   True\n",
      "   2.0    3.0 -118.6667 0.0128 -215.2473  -22.086   True\n",
      "--------------------------------------------------------\n"
     ]
    }
   ],
   "source": [
    "#import the required function\n",
    "from statsmodels.stats.multicomp import pairwise_tukeyhsd\n",
    "\n",
    "# perform multiple pairwise comparison (Tukey HSD)\n",
    "m_comp = pairwise_tukeyhsd(endog = alloy1['Response'], groups = alloy1['Method'], alpha = 0.05)\n",
    "print(m_comp)"
   ]
  },
  {
   "cell_type": "markdown",
   "id": "b8156669",
   "metadata": {},
   "source": [
    "As the p-values (refer to the p-adj column) for comparing the mean hardness of implants for pairs of methods 1 & 3 and \n",
    "2 & 3 is less than the significance level, the null hypothesis of equality of all population means can be rejected.\n",
    "\n",
    "Thus, we can say that the mean hardness of implants for method pair 1 & 2 is similar but that for method 3 is significantly different from methods 1 and 2."
   ]
  },
  {
   "cell_type": "markdown",
   "id": "44f55eea",
   "metadata": {},
   "source": [
    "Let's check if the means of hardness of implants based on methods are equal for Alloy 2."
   ]
  },
  {
   "cell_type": "markdown",
   "id": "cf247887",
   "metadata": {},
   "source": [
    "Levene's test for Alloy 1\n",
    "\n",
    "- H0: All the population variances are equal.\n",
    "- Ha: At least one variance is different from the rest."
   ]
  },
  {
   "cell_type": "code",
   "execution_count": 1006,
   "id": "b72a4d82",
   "metadata": {},
   "outputs": [
    {
     "name": "stdout",
     "output_type": "stream",
     "text": [
      "The p-value is  0.04469269939158668\n"
     ]
    }
   ],
   "source": [
    "a = alloy2[alloy2['Method']==1.0]['Response']\n",
    "b = alloy2[alloy2['Method']==2.0]['Response']\n",
    "c = alloy2[alloy2['Method']==3.0]['Response']\n",
    "\n",
    "\n",
    "# find the p-value\n",
    "test_stat, p_value = levene(a, b, c)\n",
    "print('The p-value is ', p_value)"
   ]
  },
  {
   "cell_type": "markdown",
   "id": "c775b3f3",
   "metadata": {},
   "source": [
    "Since the p-value is less than 0.05, we reject the null hypothesis of homogeneity of variances."
   ]
  },
  {
   "cell_type": "code",
   "execution_count": 1007,
   "id": "fc575e1e",
   "metadata": {},
   "outputs": [
    {
     "name": "stdout",
     "output_type": "stream",
     "text": [
      "The p-value is 5.415871051443187e-06\n"
     ]
    }
   ],
   "source": [
    "#Finding the p value using one-way ANOVA\n",
    "\n",
    "a1 = alloy2.loc[alloy2['Method'] == 1.0, 'Response']\n",
    "a2 = alloy2.loc[alloy2['Method'] == 2.0, 'Response']\n",
    "a3 = alloy2.loc[alloy2['Method'] == 3.0, 'Response']\n",
    "\n",
    "\n",
    "test_stat, p_value = f_oneway(a1, a2, a3)\n",
    "print('The p-value is ' + str(p_value))"
   ]
  },
  {
   "cell_type": "markdown",
   "id": "5afbe97e",
   "metadata": {},
   "source": [
    "The p value is less than 0.05, therefore, we reject the null hypothesis that the means of hardness of implants based on the methods are equal.\n",
    "\n",
    "Hence, we do not have enough statistical significance to conclude that means of hardness of implants based on methods for Alloy 2 are equal."
   ]
  },
  {
   "cell_type": "markdown",
   "id": "81ae49f8",
   "metadata": {},
   "source": [
    "We don't know which mean is different from the rest or whether all pairs of means are different. Multiple comparison tests (Tukey HSD) are used to test the differences between all pairs of means.\n",
    "\n",
    "In order to identify for which method mean hardness of implants is different from other groups\n",
    "\n",
    "- H0:μ1=μ2 and μ1=μ3 and μ2=μ3\n",
    "- Ha:μ1≠μ2 or μ1≠μ3 or μ2≠μ3"
   ]
  },
  {
   "cell_type": "code",
   "execution_count": 1008,
   "id": "defa7665",
   "metadata": {},
   "outputs": [
    {
     "name": "stdout",
     "output_type": "stream",
     "text": [
      "  Multiple Comparison of Means - Tukey HSD, FWER=0.05   \n",
      "========================================================\n",
      "group1 group2 meandiff p-adj    lower     upper   reject\n",
      "--------------------------------------------------------\n",
      "   1.0    2.0     27.0 0.8212  -82.4546  136.4546  False\n",
      "   1.0    3.0   -208.8 0.0001 -318.2546  -99.3454   True\n",
      "   2.0    3.0   -235.8    0.0 -345.2546 -126.3454   True\n",
      "--------------------------------------------------------\n"
     ]
    }
   ],
   "source": [
    "#import the required function\n",
    "from statsmodels.stats.multicomp import pairwise_tukeyhsd\n",
    "\n",
    "# perform multiple pairwise comparison (Tukey HSD)\n",
    "m_comp = pairwise_tukeyhsd(endog = alloy2['Response'], groups = alloy2['Method'], alpha = 0.05)\n",
    "print(m_comp)"
   ]
  },
  {
   "cell_type": "markdown",
   "id": "6eda45a7",
   "metadata": {},
   "source": [
    "Similar to results we got for Alloy 1, we can say that the mean hardness of implants for method pair 1 & 2 is similar but that for method 3 is significantly different from methods 1 and 2."
   ]
  },
  {
   "cell_type": "markdown",
   "id": "275250b2",
   "metadata": {},
   "source": [
    "#### 4.3 What is the interaction effect between the dentist and method on the hardness of dental implants for each type of alloy?"
   ]
  },
  {
   "cell_type": "code",
   "execution_count": 1018,
   "id": "2dedef27",
   "metadata": {},
   "outputs": [
    {
     "name": "stderr",
     "output_type": "stream",
     "text": [
      "D:\\Anaconda\\lib\\site-packages\\seaborn\\categorical.py:253: FutureWarning: Index.ravel returning ndarray is deprecated; in a future version this will return a view on self.\n",
      "  grouped_vals = vals.groupby(grouper)\n",
      "D:\\Anaconda\\lib\\site-packages\\seaborn\\categorical.py:253: FutureWarning: Index.ravel returning ndarray is deprecated; in a future version this will return a view on self.\n",
      "  grouped_vals = vals.groupby(grouper)\n"
     ]
    },
    {
     "data": {
      "image/png": "[encoded data removed]",
      "text/plain": [
       "<Figure size 864x576 with 1 Axes>"
      ]
     },
     "metadata": {},
     "output_type": "display_data"
    }
   ],
   "source": [
    "sns.set(style = 'whitegrid')\n",
    "plt.figure(figsize=(12,8))\n",
    "sns.pointplot(y='Response', x='Method', data=alloy1, hue='Dentist')\n",
    "plt.show()"
   ]
  },
  {
   "cell_type": "code",
   "execution_count": 1019,
   "id": "0053285c",
   "metadata": {},
   "outputs": [
    {
     "name": "stderr",
     "output_type": "stream",
     "text": [
      "D:\\Anaconda\\lib\\site-packages\\seaborn\\categorical.py:253: FutureWarning: Index.ravel returning ndarray is deprecated; in a future version this will return a view on self.\n",
      "  grouped_vals = vals.groupby(grouper)\n",
      "D:\\Anaconda\\lib\\site-packages\\seaborn\\categorical.py:253: FutureWarning: Index.ravel returning ndarray is deprecated; in a future version this will return a view on self.\n",
      "  grouped_vals = vals.groupby(grouper)\n"
     ]
    },
    {
     "data": {
      "image/png": "[encoded data removed]",
      "text/plain": [
       "<Figure size 864x576 with 1 Axes>"
      ]
     },
     "metadata": {},
     "output_type": "display_data"
    }
   ],
   "source": [
    "sns.set(style = 'whitegrid')\n",
    "plt.figure(figsize=(12,8))\n",
    "sns.pointplot(y='Response', x='Method', data=alloy2, hue='Dentist')\n",
    "plt.show()"
   ]
  },
  {
   "cell_type": "markdown",
   "id": "95c31db4",
   "metadata": {},
   "source": [
    "#### 4.4 How does the hardness of implants vary depending on dentists and methods together?"
   ]
  },
  {
   "cell_type": "markdown",
   "id": "e30a077b",
   "metadata": {},
   "source": [
    "For Alloy 1\n",
    "\n",
    "\n",
    "- Null Hypothesis H0: The mean hardness of implants for Alloy 1 is the same for all methods used by all dentists, i.e.,there is no interaction effect.\n",
    "\n",
    "- Alternate hypothesis Ha: Atleast one of the means of hardness of implants is different from the rest. There is interaction effect."
   ]
  },
  {
   "cell_type": "code",
   "execution_count": 1011,
   "id": "2d4ff944",
   "metadata": {},
   "outputs": [
    {
     "name": "stdout",
     "output_type": "stream",
     "text": [
      "              df         sum_sq       mean_sq         F    PR(>F)\n",
      "C(Dentist)   4.0  106683.688889  26670.922222  2.591255  0.051875\n",
      "C(Method)    2.0  148472.177778  74236.088889  7.212522  0.002211\n",
      "Residual    38.0  391121.377778  10292.667836       NaN       NaN\n"
     ]
    }
   ],
   "source": [
    "formula = 'Response ~ C(Dentist) + C(Method)'\n",
    "model = ols(formula, alloy1).fit()\n",
    "aov_table = anova_lm(model)\n",
    "print(aov_table)"
   ]
  },
  {
   "cell_type": "markdown",
   "id": "1e33b6ff",
   "metadata": {},
   "source": [
    "The p-value in the one of the treatments is slightly greater than 0.05."
   ]
  },
  {
   "cell_type": "markdown",
   "id": "f3f277eb",
   "metadata": {},
   "source": [
    "Previously we saw there is interaction effect between the treatments. So, let's introduce a new term while performing the Two Way ANOVA."
   ]
  },
  {
   "cell_type": "code",
   "execution_count": 1012,
   "id": "fb84c4df",
   "metadata": {},
   "outputs": [
    {
     "data": {
      "text/html": [
       "<div>\n",
       "<style scoped>\n",
       "    .dataframe tbody tr th:only-of-type {\n",
       "        vertical-align: middle;\n",
       "    }\n",
       "\n",
       "    .dataframe tbody tr th {\n",
       "        vertical-align: top;\n",
       "    }\n",
       "\n",
       "    .dataframe thead th {\n",
       "        text-align: right;\n",
       "    }\n",
       "</style>\n",
       "<table border=\"1\" class=\"dataframe\">\n",
       "  <thead>\n",
       "    <tr style=\"text-align: right;\">\n",
       "      <th></th>\n",
       "      <th>df</th>\n",
       "      <th>sum_sq</th>\n",
       "      <th>mean_sq</th>\n",
       "      <th>F</th>\n",
       "      <th>PR(&gt;F)</th>\n",
       "    </tr>\n",
       "  </thead>\n",
       "  <tbody>\n",
       "    <tr>\n",
       "      <th>C(Dentist)</th>\n",
       "      <td>4.0</td>\n",
       "      <td>106683.688889</td>\n",
       "      <td>26670.922222</td>\n",
       "      <td>3.899638</td>\n",
       "      <td>0.011484</td>\n",
       "    </tr>\n",
       "    <tr>\n",
       "      <th>C(Method)</th>\n",
       "      <td>2.0</td>\n",
       "      <td>148472.177778</td>\n",
       "      <td>74236.088889</td>\n",
       "      <td>10.854287</td>\n",
       "      <td>0.000284</td>\n",
       "    </tr>\n",
       "    <tr>\n",
       "      <th>C(Dentist):C(Method)</th>\n",
       "      <td>8.0</td>\n",
       "      <td>185941.377778</td>\n",
       "      <td>23242.672222</td>\n",
       "      <td>3.398383</td>\n",
       "      <td>0.006793</td>\n",
       "    </tr>\n",
       "    <tr>\n",
       "      <th>Residual</th>\n",
       "      <td>30.0</td>\n",
       "      <td>205180.000000</td>\n",
       "      <td>6839.333333</td>\n",
       "      <td>NaN</td>\n",
       "      <td>NaN</td>\n",
       "    </tr>\n",
       "  </tbody>\n",
       "</table>\n",
       "</div>"
      ],
      "text/plain": [
       "                        df         sum_sq       mean_sq          F    PR(>F)\n",
       "C(Dentist)             4.0  106683.688889  26670.922222   3.899638  0.011484\n",
       "C(Method)              2.0  148472.177778  74236.088889  10.854287  0.000284\n",
       "C(Dentist):C(Method)   8.0  185941.377778  23242.672222   3.398383  0.006793\n",
       "Residual              30.0  205180.000000   6839.333333        NaN       NaN"
      ]
     },
     "execution_count": 1012,
     "metadata": {},
     "output_type": "execute_result"
    }
   ],
   "source": [
    "formula = 'Response ~ C(Dentist) + C(Method) + C(Dentist):C(Method)'\n",
    "model = ols(formula, alloy1).fit()\n",
    "aov_table = anova_lm(model)\n",
    "(aov_table)"
   ]
  },
  {
   "cell_type": "markdown",
   "id": "5e5ec3f6",
   "metadata": {},
   "source": [
    "Due to the inclusion of the interaction effect term, we can see a significant change in the p-value of the first two treatments as compared to the Two-Way ANOVA.\n",
    "\n",
    "We see that the p-value (0.006 < 0.05) of the interaction effect term of 'Dentist' and 'Method' suggests that the null hypothesis is rejected in this case, i.e. for Alloy 1."
   ]
  },
  {
   "cell_type": "code",
   "execution_count": 1013,
   "id": "f3582a7d",
   "metadata": {},
   "outputs": [
    {
     "name": "stdout",
     "output_type": "stream",
     "text": [
      "                            OLS Regression Results                            \n",
      "==============================================================================\n",
      "Dep. Variable:               Response   R-squared:                       0.683\n",
      "Model:                            OLS   Adj. R-squared:                  0.534\n",
      "Method:                 Least Squares   F-statistic:                     4.607\n",
      "Date:                Sun, 10 Dec 2023   Prob (F-statistic):           0.000221\n",
      "Time:                        01:53:43   Log-Likelihood:                -253.41\n",
      "No. Observations:                  45   AIC:                             536.8\n",
      "Df Residuals:                      30   BIC:                             563.9\n",
      "Df Model:                          14                                         \n",
      "Covariance Type:            nonrobust                                         \n",
      "======================================================================================================\n",
      "                                         coef    std err          t      P>|t|      [0.025      0.975]\n",
      "------------------------------------------------------------------------------------------------------\n",
      "Intercept                            799.0000     47.747     16.734      0.000     701.488     896.512\n",
      "C(Dentist)[T.2.0]                    -22.0000     67.524     -0.326      0.747    -159.903     115.903\n",
      "C(Dentist)[T.3.0]                    -91.6667     67.524     -1.358      0.185    -229.570      46.237\n",
      "C(Dentist)[T.4.0]                    -33.3333     67.524     -0.494      0.625    -171.237     104.570\n",
      "C(Dentist)[T.5.0]                    -92.3333     67.524     -1.367      0.182    -230.237      45.570\n",
      "C(Method)[T.2.0]                     -84.0000     67.524     -1.244      0.223    -221.903      53.903\n",
      "C(Method)[T.3.0]                     -63.3333     67.524     -0.938      0.356    -201.237      74.570\n",
      "C(Dentist)[T.2.0]:C(Method)[T.2.0]    72.6667     95.494      0.761      0.453    -122.358     267.692\n",
      "C(Dentist)[T.3.0]:C(Method)[T.2.0]    99.6667     95.494      1.044      0.305     -95.358     294.692\n",
      "C(Dentist)[T.4.0]:C(Method)[T.2.0]    99.6667     95.494      1.044      0.305     -95.358     294.692\n",
      "C(Dentist)[T.5.0]:C(Method)[T.2.0]   117.3333     95.494      1.229      0.229     -77.692     312.358\n",
      "C(Dentist)[T.2.0]:C(Method)[T.3.0]    27.3333     95.494      0.286      0.777    -167.692     222.358\n",
      "C(Dentist)[T.3.0]:C(Method)[T.3.0]    78.3333     95.494      0.820      0.419    -116.692     273.358\n",
      "C(Dentist)[T.4.0]:C(Method)[T.3.0]  -206.0000     95.494     -2.157      0.039    -401.025     -10.975\n",
      "C(Dentist)[T.5.0]:C(Method)[T.3.0]  -207.0000     95.494     -2.168      0.038    -402.025     -11.975\n",
      "==============================================================================\n",
      "Omnibus:                        5.704   Durbin-Watson:                   2.927\n",
      "Prob(Omnibus):                  0.058   Jarque-Bera (JB):                7.907\n",
      "Skew:                          -0.036   Prob(JB):                       0.0192\n",
      "Kurtosis:                       5.052   Cond. No.                         21.8\n",
      "==============================================================================\n",
      "\n",
      "Notes:\n",
      "[1] Standard Errors assume that the covariance matrix of the errors is correctly specified.\n",
      "  Multiple Comparison of Means - Tukey HSD, FWER=0.05   \n",
      "========================================================\n",
      "group1 group2  meandiff p-adj    lower    upper   reject\n",
      "--------------------------------------------------------\n",
      "   1.0    2.0   11.3333 0.9996 -145.0423  167.709  False\n",
      "   1.0    3.0  -32.3333 0.9757  -188.709 124.0423  False\n",
      "   1.0    4.0  -68.7778 0.7189 -225.1535  87.5979  False\n",
      "   1.0    5.0 -122.2222 0.1889 -278.5979  34.1535  False\n",
      "   2.0    3.0  -43.6667 0.9298 -200.0423  112.709  False\n",
      "   2.0    4.0  -80.1111 0.5916 -236.4868  76.2646  False\n",
      "   2.0    5.0 -133.5556 0.1258 -289.9312  22.8201  False\n",
      "   3.0    4.0  -36.4444 0.9626 -192.8201 119.9312  False\n",
      "   3.0    5.0  -89.8889 0.4805 -246.2646  66.4868  False\n",
      "   4.0    5.0  -53.4444 0.8643 -209.8201 102.9312  False\n",
      "--------------------------------------------------------\n"
     ]
    }
   ],
   "source": [
    "import pandas as pd\n",
    "from statsmodels.formula.api import ols\n",
    "from statsmodels.stats.multicomp import pairwise_tukeyhsd\n",
    "from statsmodels.stats.multicomp import MultiComparison\n",
    "\n",
    "# Assuming you have a DataFrame named 'df' with columns 'dependent_variable', 'factor1', and 'factor2'\n",
    "formula = 'Response ~ C(Dentist) + C(Method) + C(Dentist):C(Method)'\n",
    "model = ols(formula, data=alloy1).fit()\n",
    "\n",
    "# Perform Tukey HSD test\n",
    "mc = MultiComparison(alloy1['Response'], alloy1['Dentist'])\n",
    "tukey_results = mc.tukeyhsd()\n",
    "\n",
    "print(model.summary())\n",
    "print(tukey_results)"
   ]
  },
  {
   "cell_type": "markdown",
   "id": "f1b5b384",
   "metadata": {},
   "source": [
    "Let's check for Alloy 2.\n",
    "\n",
    "- Null Hypothesis H0: The mean hardness of implants for Alloy 2 is the same for all methods used by all dentists.\n",
    "\n",
    "- Alternate hypothesis Ha: Atleast one of the means of hardness of implants is different from the rest."
   ]
  },
  {
   "cell_type": "code",
   "execution_count": 1014,
   "id": "67c2b634",
   "metadata": {},
   "outputs": [
    {
     "name": "stdout",
     "output_type": "stream",
     "text": [
      "              df         sum_sq        mean_sq          F    PR(>F)\n",
      "C(Dentist)   4.0   56797.911111   14199.477778   0.926215  0.458933\n",
      "C(Method)    2.0  499640.400000  249820.200000  16.295479  0.000008\n",
      "Residual    38.0  582564.488889   15330.644444        NaN       NaN\n"
     ]
    }
   ],
   "source": [
    "formula = 'Response ~ C(Dentist) + C(Method)'\n",
    "model = ols(formula, alloy2).fit()\n",
    "aov_table = anova_lm(model)\n",
    "print(aov_table)"
   ]
  },
  {
   "cell_type": "markdown",
   "id": "06ddabac",
   "metadata": {},
   "source": [
    "The p-value in the one of the treatments is greater than 0.05."
   ]
  },
  {
   "cell_type": "markdown",
   "id": "c007b37b",
   "metadata": {},
   "source": [
    "Previously we saw there is interaction effect between the treatments. So, let's introduce a new term while performing the Two Way ANOVA."
   ]
  },
  {
   "cell_type": "code",
   "execution_count": 1015,
   "id": "81daf146",
   "metadata": {},
   "outputs": [
    {
     "data": {
      "text/html": [
       "<div>\n",
       "<style scoped>\n",
       "    .dataframe tbody tr th:only-of-type {\n",
       "        vertical-align: middle;\n",
       "    }\n",
       "\n",
       "    .dataframe tbody tr th {\n",
       "        vertical-align: top;\n",
       "    }\n",
       "\n",
       "    .dataframe thead th {\n",
       "        text-align: right;\n",
       "    }\n",
       "</style>\n",
       "<table border=\"1\" class=\"dataframe\">\n",
       "  <thead>\n",
       "    <tr style=\"text-align: right;\">\n",
       "      <th></th>\n",
       "      <th>df</th>\n",
       "      <th>sum_sq</th>\n",
       "      <th>mean_sq</th>\n",
       "      <th>F</th>\n",
       "      <th>PR(&gt;F)</th>\n",
       "    </tr>\n",
       "  </thead>\n",
       "  <tbody>\n",
       "    <tr>\n",
       "      <th>C(Dentist)</th>\n",
       "      <td>4.0</td>\n",
       "      <td>56797.911111</td>\n",
       "      <td>14199.477778</td>\n",
       "      <td>1.106152</td>\n",
       "      <td>0.371833</td>\n",
       "    </tr>\n",
       "    <tr>\n",
       "      <th>C(Method)</th>\n",
       "      <td>2.0</td>\n",
       "      <td>499640.400000</td>\n",
       "      <td>249820.200000</td>\n",
       "      <td>19.461218</td>\n",
       "      <td>0.000004</td>\n",
       "    </tr>\n",
       "    <tr>\n",
       "      <th>C(Dentist):C(Method)</th>\n",
       "      <td>8.0</td>\n",
       "      <td>197459.822222</td>\n",
       "      <td>24682.477778</td>\n",
       "      <td>1.922787</td>\n",
       "      <td>0.093234</td>\n",
       "    </tr>\n",
       "    <tr>\n",
       "      <th>Residual</th>\n",
       "      <td>30.0</td>\n",
       "      <td>385104.666667</td>\n",
       "      <td>12836.822222</td>\n",
       "      <td>NaN</td>\n",
       "      <td>NaN</td>\n",
       "    </tr>\n",
       "  </tbody>\n",
       "</table>\n",
       "</div>"
      ],
      "text/plain": [
       "                        df         sum_sq        mean_sq          F    PR(>F)\n",
       "C(Dentist)             4.0   56797.911111   14199.477778   1.106152  0.371833\n",
       "C(Method)              2.0  499640.400000  249820.200000  19.461218  0.000004\n",
       "C(Dentist):C(Method)   8.0  197459.822222   24682.477778   1.922787  0.093234\n",
       "Residual              30.0  385104.666667   12836.822222        NaN       NaN"
      ]
     },
     "execution_count": 1015,
     "metadata": {},
     "output_type": "execute_result"
    }
   ],
   "source": [
    "formula = 'Response ~ C(Dentist) + C(Method) + C(Dentist):C(Method)'\n",
    "model = ols(formula, alloy2).fit()\n",
    "aov_table = anova_lm(model)\n",
    "(aov_table)"
   ]
  },
  {
   "cell_type": "markdown",
   "id": "508416ec",
   "metadata": {},
   "source": [
    "Due to the inclusion of the interaction effect term, we can see a slight change in the p-value of the first two treatments as compared to the Two-Way ANOVA.\n",
    "\n",
    "We see that the p-value (0.09 > 0.05) of the interaction effect term of 'Dentist' and 'Method' suggests that we fail to reject the null hypothesis in this case, i.e. for Alloy 2."
   ]
  },
  {
   "cell_type": "code",
   "execution_count": null,
   "id": "d47df07c",
   "metadata": {},
   "outputs": [],
   "source": []
  }
 ],
 "metadata": {
  "kernelspec": {
   "display_name": "Python 3 (ipykernel)",
   "language": "python",
   "name": "python3"
  },
  "language_info": {
   "codemirror_mode": {
    "name": "ipython",
    "version": 3
   },
   "file_extension": ".py",
   "mimetype": "text/x-python",
   "name": "python",
   "nbconvert_exporter": "python",
   "pygments_lexer": "ipython3",
   "version": "3.9.12"
  }
 },
 "nbformat": 4,
 "nbformat_minor": 5
}
